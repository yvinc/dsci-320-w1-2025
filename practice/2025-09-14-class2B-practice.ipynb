{
 "cells": [
  {
   "cell_type": "markdown",
   "id": "595bd90a",
   "metadata": {},
   "source": [
    "# In-Class Lecture: Altair Fundamentals \n",
    "\n",
    "\n",
    "## Learning Objectives\n",
    "- Learn the Visualization Grammar used in Altair. \n",
    "- Gain experience creating vizzes with 2 - 4 channels encoded. \n",
    "- Create and differentiate between regular stacked bars and normalized stacked bars (`stack='normalize'`)\n",
    "- Create grouped bar charts to show side-by-side comparisons across categories\n",
    "- Identify and interpret positive, negative, and no correlation relationships in scatter plots, including outlier detection\n"
   ]
  },
  {
   "cell_type": "markdown",
   "id": "4e1237cb",
   "metadata": {},
   "source": [
    "## Environment Setup"
   ]
  },
  {
   "cell_type": "code",
   "execution_count": null,
   "id": "5ab43d4a",
   "metadata": {},
   "outputs": [],
   "source": [
    "import pandas as pd\n",
    "import numpy as np\n",
    "import altair as alt"
   ]
  },
  {
   "cell_type": "markdown",
   "id": "28b0b82f",
   "metadata": {},
   "source": [
    "## Data Setup"
   ]
  },
  {
   "cell_type": "markdown",
   "id": "33b56a51",
   "metadata": {},
   "source": [
    "### Dataset Description\n",
    "We are using an updated version of the Gapminder dataset, which contains values up until 2018 for most features.\n",
    "\n",
    "The data was collected by the [Gapminder Foundation](https://www.gapminder.org/) and shared in [Hans Rosling's popular TED talk](https://www.youtube.com/watch?v=hVimVzgtD6w). If you haven't seen the talk, we encourage you to watch it first!\n",
    "\n",
    "\n",
    "| Column                | Description                                                                                  |\n",
    "|-----------------------|----------------------------------------------------------------------------------------------|\n",
    "| country               | Country name                                                                                 |\n",
    "| year                  | Year of observation                                                                          |\n",
    "| population            | Population in the country at each year                                                       |\n",
    "| region                | Continent the country belongs to                                                             |\n",
    "| sub_region            | Sub-region the country belongs to                                                            |\n",
    "| income_group          | Income group                                                                                 |\n",
    "| life_expectancy       | The mean number of years a newborn would <br>live if mortality patterns remained constant    |\n",
    "| income                | GDP per capita (in USD) <em>adjusted <br>for differences in purchasing power</em>            |\n",
    "| children_per_woman    | Average number of children born per woman                                                    |\n",
    "| child_mortality       | Deaths of children under 5 years <break>of age per 1000 live births                          |\n",
    "| pop_density           | Average number of people per km<sup>2</sup>                                                  |\n",
    "| co2_per_capita        | CO2 emissions from fossil fuels (tonnes per capita)                                          |\n",
    "| years_in_school_men   | Mean number of years in primary, secondary,<br>and tertiary school for 25-36 years old men   |\n",
    "| years_in_school_women | Mean number of years in primary, secondary,<br>and tertiary school for 25-36 years old women |"
   ]
  },
  {
   "cell_type": "code",
   "execution_count": null,
   "id": "afe74970",
   "metadata": {},
   "outputs": [],
   "source": [
    "# If running in PL use this file path\n",
    "filepath = \"data/world-data-gapminder.csv\"\n",
    "\n",
    "# If running locally on your machine use this one\n",
    "filepath = 'https://raw.githubusercontent.com/kemiolamudzengi/dsci-320-datasets/main/world-data-gapminder.csv'\n",
    "\n",
    "# COMMENT OUT THE FILE PATH THAT DOESN'T APPLY TO YOUR CONTEXT\n",
    "\n",
    "# Read in the data using pandas, remember to set parse_dates!\n",
    "gapminder = pd.read_csv(filepath, parse_dates=[\"year\"])\n",
    "\n",
    "# Display basic information about the dataset\n",
    "print(f\"Dataset shape: {gapminder.shape}\")\n",
    "print(f\"Years covered: {gapminder.year.dt.year.min()} to {gapminder.year.dt.year.max()}\")\n",
    "print(f\"Number of countries: {gapminder.country.nunique()}\")\n",
    "print(f\"Regions included: {', '.join(sorted(gapminder.region.unique()))}\")\n",
    "print(f\"Column names: {sorted(gapminder.columns)}\")"
   ]
  },
  {
   "cell_type": "markdown",
   "id": "2bc8cd63",
   "metadata": {},
   "source": [
    "## Data Wrangling \n",
    "\n",
    "We want to filter the data to the most recent year with available CO₂ per capita values. \n",
    "We have to do this in 2 steps. first find the most recent year that meets the requirements and then filter based on that year. \n"
   ]
  },
  {
   "cell_type": "code",
   "execution_count": null,
   "id": "2108b9c7",
   "metadata": {},
   "outputs": [],
   "source": [
    "# Step 1: Find most recent year with CO2 data\n",
    "recent_year = gapminder[gapminder.co2_per_capita.notna()].year.max()\n",
    "print(f\"Most recent CO2 data: {recent_year}\")\n",
    "\n",
    "# Step 2: Filter to that year\n",
    "recent_data = gapminder[gapminder.year == recent_year]\n"
   ]
  },
  {
   "cell_type": "markdown",
   "id": "57d8e92d",
   "metadata": {},
   "source": [
    "## Task 1: Sorted Bar Chart - Identifying Top Emitters\n",
    "\n",
    "Bar charts excel at showing \"which countries are highest/lowest\" and help us identify clear winners and outliers.\n",
    "\n",
    "**Exploratory Question**: *Which countries are the world's biggest CO2 emitters per capita, and how do they compare to each other?*\n",
    "\n",
    "Understanding per capita emissions helps us see which countries have the highest individual environmental impact, regardless of their total population size. This is crucial information for climate policy discussions.\n",
    "\n",
    "---\n",
    "\n",
    "**Your Task**: Create a horizontal bar chart showing the top 20 countries with the highest CO2 emissions per capita.\n",
    "\n",
    "### Step-by-Step Instructions:\n",
    "\n",
    "Create a visualization with the following specs:\n",
    "- Use the **`bar`** mark\n",
    "- Encode CO2 per capita (`co2_per_capita`) on the **x channel**\n",
    "- Encode country names (`country`) as nominal data on the **y channel**, sorted by CO2 values (highest at top)\n",
    "- Encode continent (`region`) on the **color channel**"
   ]
  },
  {
   "cell_type": "code",
   "execution_count": null,
   "id": "1975329c",
   "metadata": {},
   "outputs": [],
   "source": [
    "# Get top 20 countries by CO2\n",
    "top_co2 = recent_data.nlargest(20, 'co2_per_capita')\n",
    "\n",
    "# Create viz \n",
    "horizontal_bar = ...\n",
    "\n",
    "# Show plot\n",
    "horizontal_bar"
   ]
  },
  {
   "cell_type": "markdown",
   "id": "f514c2f7",
   "metadata": {},
   "source": [
    "---\n",
    "## Task 2: Global Carbon Emissions\n",
    "### Comparison Strategies\n",
    "When analyzing change over time, the way we structure our visualization dramatically affects the story we can tell. Different stacking and grouping approaches reveal different aspects of temporal patterns. Today we'll explore three techniques for comparing categories across time periods.\n",
    "\n",
    "**Exploratory Question**: *How has global CO2 emissions shifted between regions from 1952 to 2002, and what's the best way to show both absolute growth and changing proportions?*\n",
    "\n",
    "### Part A: Stacked Temporal Bar Chart\n",
    "**Purpose**: Show total population growth AND regional contributions\n",
    "\n",
    "Create a visualization with the following specs:\n",
    "- Use the **`bar`** mark\n",
    "- Use the provided historical data from years 1952,1962,1972,1982,1992,2002,2012\n",
    "- Encode year (`year`) on the **x channel** as ordinal data\n",
    "- Encode sum of population (`sum(population)`) on the **y channel**\n",
    "- Encode region (`region`) on the **color channel** for automatic stacking"
   ]
  },
  {
   "cell_type": "code",
   "execution_count": null,
   "id": "1093533e",
   "metadata": {},
   "outputs": [],
   "source": [
    "### Data Wrangling\n",
    "\n",
    "# If year column is an integer, then make a subset, otherwise first convert to int\n",
    "if np.issubdtype(gapminder['year'].dtype, np.datetime64):\n",
    "    gapminder['year'] = gapminder['year'].dt.year\n",
    "subset = gapminder[gapminder.year.isin([1952,1962,1972,1982,1992,2002,2012])]\n",
    "\n",
    "\n",
    "# Stacked bar showing population by continent over time\n",
    "stacked_bar = ...\n",
    "stacked_bar"
   ]
  },
  {
   "cell_type": "markdown",
   "id": "bc7ac452",
   "metadata": {
    "lines_to_next_cell": 0
   },
   "source": [
    "### Part B: Normalized Stacked Bar Chart  \n",
    "**Purpose**: Focus on changing proportions rather than absolute numbers\n",
    "\n",
    "Enhance the stacked chart by:\n",
    "- Use the same **x channel** and **color channel** encodings as Part A\n",
    "- Encode sum of co2 emissions on the **y channel** with `stack='normalize'` to show percentages"
   ]
  },
  {
   "cell_type": "code",
   "execution_count": null,
   "id": "2f6c205a",
   "metadata": {},
   "outputs": [],
   "source": [
    "# Show proportions instead of absolute values\n",
    "normalized_stack_bar = ...\n",
    "\n",
    "# Show plot\n",
    "normalized_stack_bar"
   ]
  },
  {
   "cell_type": "markdown",
   "id": "bc98ac9e",
   "metadata": {},
   "source": [
    "### Part C: Grouped Bar Chart\n",
    "**Purpose**: Enable direct comparison of each region across time\n",
    "\n",
    "Create a grouped comparison by:\n",
    "- Encode year (`year`) on the **x channel**\n",
    "- Encode sum of population on the **y channel**  \n",
    "- Encode region (`region`) on the **color channel**\n",
    "- Encode region (`region`) on the **column channel** to create separate panels"
   ]
  },
  {
   "cell_type": "code",
   "execution_count": null,
   "id": "d4d540ba",
   "metadata": {},
   "outputs": [],
   "source": [
    "# Grouped bars (side by side)\n",
    "grouped_bar = ...\n",
    "grouped_bar"
   ]
  },
  {
   "cell_type": "markdown",
   "id": "5c43117b",
   "metadata": {},
   "source": [
    "### When to Use Each Type\n",
    "\n",
    "**Simple Bar:** Compare categories  \n",
    "**Stacked Bar:** Compare parts of a whole + see totals  \n",
    "**Normalized Stacked:** Compare proportions when totals vary greatly  \n",
    "**Grouped Bar:** Compare multiple series across categories\n"
   ]
  },
  {
   "cell_type": "markdown",
   "id": "3ca9508a",
   "metadata": {},
   "source": [
    "## Task 3: Temporal Environmental Impact Analysis\n",
    "\n",
    "Our final exploration takes us into one of the most critical questions of our time: how have regional CO2 emissions changed over decades? This analysis helps us understand which regions have been driving global emissions growth and how environmental responsibility has shifted over time.\n",
    "\n",
    "**Exploratory Question**: *How have regional CO2 emission patterns evolved the last century, and which regions show the most dramatic changes?*\n",
    "\n",
    "\n",
    "**Your Task**: Create a temporal stacked bar chart showing how regional CO2 emissions have changed over decades.\n",
    "\n",
    "### Step-by-Step Instructions:\n",
    "\n",
    "The data wrangling has been provided for you. Create a visualization with the following specs:\n",
    "- Use the `bar` mark\n",
    "- Encode year (`year`) on the **x channel** as temporal data\n",
    "- Encode sum of CO2 per capita (`sum(co2_per_capita)`) on the **y channel**\n",
    "- Encode region (`region`) on the **color channel** with a better color scheme using `alt.Color('region:N', scale=alt.Scale(scheme='category10'))`\n",
    "- Encode multiple fields on the **tooltip channel**: `year`, `region`, and `co2_per_capita`\n",
    "- Set chart width to 600 pixels using `.properties(width=600)`\n",
    "\n"
   ]
  },
  {
   "cell_type": "code",
   "execution_count": null,
   "id": "dd570fc4",
   "metadata": {},
   "outputs": [],
   "source": [
    "# Data Wrangling\n",
    "\n",
    "# Convert year (int) back to datetime64\n",
    "gapminder['year'] = pd.to_datetime(gapminder['year'], format='%Y')\n",
    "\n",
    "# Filter for countries with CO2 data\n",
    "co2_data = gapminder[gapminder.co2_per_capita.notna()]\n",
    "\n",
    "# Aggregate by continent and year\n",
    "co2_by_continent = co2_data.groupby(['year', 'region']).agg({\n",
    "    'co2_per_capita': 'sum'\n",
    "}).reset_index()\n"
   ]
  },
  {
   "cell_type": "code",
   "execution_count": null,
   "id": "f5d4279b",
   "metadata": {},
   "outputs": [],
   "source": [
    "# Create  stacked chart\n",
    "co2_chart = ...\n",
    "\n",
    "co2_chart"
   ]
  },
  {
   "cell_type": "markdown",
   "id": "9da5e76b",
   "metadata": {},
   "source": [
    "#### Follow on\n",
    "Update the viz above by normalizing the `y` channel to get a better view of the patterns\n",
    "\n"
   ]
  },
  {
   "cell_type": "code",
   "execution_count": null,
   "id": "49da7f29",
   "metadata": {},
   "outputs": [],
   "source": [
    "# Create normalized stacked chart\n",
    "co2_chart_norm = ...\n",
    "co2_chart_norm"
   ]
  },
  {
   "cell_type": "markdown",
   "id": "1bed4372",
   "metadata": {
    "lines_to_next_cell": 0
   },
   "source": [
    "## Task 4: Scatter Plot Recap Activity\n",
    "\n",
    "**Exploratory Question**: *What is the relationship between a country's carbon emissions and life expectancy?*\n",
    "\n",
    "This is the kind of question data analysts explore every day. Let's use our scatter plot skills to investigate this relationship and practice interpreting what we find.\n",
    "\n",
    "\n",
    "**Your Task**: Create a scatter plot that reveals the relationship between carbon emissions and life expectancy using the 2014 data.\n",
    "\n",
    "### Step-by-Step Instructions:\n",
    "In the code cell below, write code that:\n",
    "\n",
    "Create a visualization with the following specs:\n",
    "- Use the **`circle`** mark\n",
    "- Encode CO₂ per capita (`co2_per_capita`) on the **y channel**\n",
    "- Encode life expectancy (`life_expectancy`) on the **x channel**\n",
    "- Encode continent (`region`) on the **color channel**\n",
    "\n",
    "**Add tooltips** showing `country`, `co2_per_capita`, and `life_expectancy`"
   ]
  },
  {
   "cell_type": "code",
   "execution_count": null,
   "id": "e547303c",
   "metadata": {},
   "outputs": [],
   "source": [
    "scatter_plot = ...\n",
    "scatter_plot\n"
   ]
  },
  {
   "cell_type": "markdown",
   "id": "cef2fbcb",
   "metadata": {
    "lines_to_next_cell": 0
   },
   "source": [
    "**How to tell if two variables are correlated by looking at a scatter plot**\n",
    "\n",
    "**Positive Correlation**\n",
    "- **Upward trend**: As X increases, Y tends to increase.\n",
    "- **Tight clustering**: Points follow a clear upward line or curve.\n",
    "- **Few outliers**: Most points conform to the pattern.\n",
    "\n",
    "**Negative Correlation**\n",
    "- **Downward trend**: As X increases, Y tends to decrease.\n",
    "- **Tight clustering**: Points follow a clear downward line or curve.\n",
    "- **Few outliers**: Most points fit the downward trend.\n",
    "\n",
    "**No Correlation**\n",
    "- **No clear trend**: Points are scattered randomly.\n",
    "- **Wide spread**: No discernible line or curve.\n",
    "- **Many outliers**: No obvious relationship between X and Y.\n"
   ]
  },
  {
   "cell_type": "code",
   "execution_count": null,
   "id": "7ca1966c",
   "metadata": {},
   "outputs": [],
   "source": [
    "corr_value = recent_data['life_expectancy'].corr(recent_data['co2_per_capita'])\n",
    "print(f\"Correlation between life expectancy and carbon emissions: {corr_value:.2f}\")\n"
   ]
  },
  {
   "cell_type": "markdown",
   "id": "5c823b7e",
   "metadata": {},
   "source": [
    "![Correlation](https://articles.outlier.org/_next/image?url=https%3A%2F%2Fimages.ctfassets.net%2Fkj4bmrik9d6o%2F2oArz66jpUDD00bOYo58e9%2F90ee20b033c2695c6884c5c652f75b81%2FOutlier_Graph_NegativeCorrelation-02.png&w=1080&q=75)"
   ]
  },
  {
   "cell_type": "markdown",
   "id": "0def6f0f",
   "metadata": {},
   "source": [
    "## Get Stepping\n",
    "\n",
    "1. Redo the entire class. You learn by doing\n",
    "2. Go to Altair's website and get familiar with the examples there.\n",
    "3. Create new questions and then create visualizations to answer them. \n",
    "4. Prep for the quiz 2. It covers Tutorial 2 and Class 2 (this file) content. "
   ]
  }
 ],
 "metadata": {
  "jupytext": {
   "cell_metadata_filter": "-all",
   "notebook_metadata_filter": "-all"
  },
  "kernelspec": {
   "display_name": "Python 3 (ipykernel)",
   "language": "python",
   "name": "python3"
  },
  "language_info": {
   "name": "python"
  }
 },
 "nbformat": 4,
 "nbformat_minor": 5
}
