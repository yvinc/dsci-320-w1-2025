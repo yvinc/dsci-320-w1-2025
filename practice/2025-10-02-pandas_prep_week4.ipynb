{
 "cells": [
  {
   "cell_type": "markdown",
   "id": "373a5888",
   "metadata": {},
   "source": [
    "# PCP 4 Prep Sheet - Pandas Data Wrangling Practice\n",
    "\n",
    "## Overview\n",
    "This prep sheet will help you prepare for PCP 4 by practicing essential pandas data wrangling skills including:\n",
    "- Filtering data by categorical and quantitative attributes\n",
    "- Renaming columns\n",
    "- Reshaping data from wide to long format using `melt()`\n",
    "- Combining multiple operations\n",
    "\n",
    "## Setup"
   ]
  },
  {
   "cell_type": "markdown",
   "id": "2da621a6",
   "metadata": {},
   "source": [
    "### Dataset Description\n",
    "We are using an updated version of the Gapminder dataset, which contains values up until 2018 for most features.\n",
    "\n",
    "The data was collected by the [Gapminder Foundation](https://www.gapminder.org/) and shared in [Hans Rosling's popular TED talk](https://www.youtube.com/watch?v=hVimVzgtD6w). If you haven't seen the talk, we encourage you to watch it first!\n",
    "\n",
    "\n",
    "| Column                | Description                                                                                  |\n",
    "|-----------------------|----------------------------------------------------------------------------------------------|\n",
    "| country               | Country name                                                                                 |\n",
    "| year                  | Year of observation                                                                          |\n",
    "| population            | Population in the country at each year                                                       |\n",
    "| region                | Continent the country belongs to                                                             |\n",
    "| sub_region            | Sub-region the country belongs to                                                            |\n",
    "| income_group          | Income group                                                                                 |\n",
    "| life_expectancy       | The mean number of years a newborn would <br>live if mortality patterns remained constant    |\n",
    "| income                | GDP per capita (in USD) <em>adjusted <br>for differences in purchasing power</em>            |\n",
    "| children_per_woman    | Average number of children born per woman                                                    |\n",
    "| child_mortality       | Deaths of children under 5 years <break>of age per 1000 live births                          |\n",
    "| pop_density           | Average number of people per km<sup>2</sup>                                                  |\n",
    "| co2_per_capita        | CO2 emissions from fossil fuels (tonnes per capita)                                          |\n",
    "| years_in_school_men   | Mean number of years in primary, secondary,<br>and tertiary school for 25-36 years old men   |\n",
    "| years_in_school_women | Mean number of years in primary, secondary,<br>and tertiary school for 25-36 years old women |\n",
    "    \n",
    "\n",
    "### Practice Questions\n",
    "    Please don't rely on the provided solutions. This file was created in a hurry, as such there may be bugs. \n",
    "    \n",
    "### How to use this resource\n",
    "    1. What is important is PROCESS, when you get stuck, how do you approach a problem, \n",
    "    2. USE YOUR RESOURCES. Start with the (Pandas Cheat Sheet)[https://pandas.pydata.org/Pandas_Cheat_Sheet.pdf]\n",
    "    3. Make sure for each question that you know which pandas method is relevant. \n",
    "    4. Read the error messages, there are not meant to scare you but to help you understand what went wrong. \n",
    "\n",
    "---"
   ]
  },
  {
   "cell_type": "code",
   "execution_count": null,
   "id": "7326e8ff",
   "metadata": {
    "lines_to_next_cell": 2
   },
   "outputs": [],
   "source": [
    "import pandas as pd\n",
    "import numpy as np\n",
    "\n",
    "# Load the gapminder dataset\n",
    "\n",
    "\n",
    "# If running in PL use this file path\n",
    "#url = \"data/world-data-gapminder.csv\"\n",
    "\n",
    "# If running locally on your machine use this one\n",
    "url = 'https://raw.githubusercontent.com/kemiolamudzengi/dsci-320-datasets/main/world-data-gapminder.csv'\n",
    "\n",
    "# COMMENT OUT THE FILE PATH THAT DOESN'T APPLY TO YOUR CONTEXT\n",
    "\n",
    "gapminder = pd.read_csv(url, parse_dates=['year'])\n",
    "\n",
    "print(f\"Dataset shape: {gapminder.shape}\")\n",
    "print(f\"Columns: {list(gapminder.columns)}\")"
   ]
  },
  {
   "cell_type": "markdown",
   "id": "10cd4727",
   "metadata": {},
   "source": [
    "### Question 1: Filtering by Categorical Attributes (Simple)\n",
    "**Task**: Create a DataFrame called `european_data` that contains only countries from the Europe region."
   ]
  },
  {
   "cell_type": "markdown",
   "id": "a86f8766",
   "metadata": {},
   "source": [
    "# Your code here\n",
    "european_data = ..."
   ]
  },
  {
   "cell_type": "markdown",
   "id": "b85b3e72",
   "metadata": {},
   "source": [
    "---\n",
    "\n",
    "### Question 2: Filtering by Quantitative Attributes\n",
    "**Task**: Create a DataFrame called `high_income_2015` that contains only rows where:\n",
    "- The year is 2015\n",
    "- The income (GDP per capita) is greater than or equal to 50,000"
   ]
  },
  {
   "cell_type": "code",
   "execution_count": null,
   "id": "97986d65",
   "metadata": {},
   "outputs": [],
   "source": [
    "# Your code here\n",
    "high_income_2015 = ..."
   ]
  },
  {
   "cell_type": "markdown",
   "id": "4de81b62",
   "metadata": {},
   "source": [
    "---\n",
    "\n",
    "### Question 3: Filtering with Multiple Categorical Values\n",
    "**Task**: Create a DataFrame called `brics_data` that contains only data for Brazil, Russia, India, China, and South Africa (the BRICS nations)."
   ]
  },
  {
   "cell_type": "code",
   "execution_count": null,
   "id": "394e1d49",
   "metadata": {},
   "outputs": [],
   "source": [
    "# Your code here\n",
    "brics_countries = ['Brazil', 'Russia', 'India', 'China', 'South Africa']\n",
    "brics_data = ..."
   ]
  },
  {
   "cell_type": "markdown",
   "id": "c4ca3a57",
   "metadata": {},
   "source": [
    "---\n",
    "\n",
    "### Question 4: Combining Multiple Filters\n",
    "**Task**: Create a DataFrame called `recent_african_data` that contains:\n",
    "- Only countries from the Africa region\n",
    "- Only years between 2010 and 2018 (inclusive)\n",
    "- Only countries with population greater than 10 million"
   ]
  },
  {
   "cell_type": "code",
   "execution_count": null,
   "id": "8f3869c1",
   "metadata": {},
   "outputs": [],
   "source": [
    "# Your code here\n",
    "recent_african_data = ..."
   ]
  },
  {
   "cell_type": "markdown",
   "id": "7d32eb52",
   "metadata": {},
   "source": [
    "---\n",
    "\n",
    "### Question 5: Renaming Columns\n",
    "**Task**: Create a new DataFrame called `gapminder_renamed` from the gapminder data with the following column renames:\n",
    "- `life_expectancy` → `life_exp`\n",
    "- `children_per_woman` → `fertility_rate`\n",
    "- `child_mortality` → `under5_mortality`\n",
    "- `co2_per_capita` → `co2_emissions`"
   ]
  },
  {
   "cell_type": "code",
   "execution_count": null,
   "id": "144c8a3d",
   "metadata": {},
   "outputs": [],
   "source": [
    "# Your code here\n",
    "gapminder_renamed = ..."
   ]
  },
  {
   "cell_type": "markdown",
   "id": "9240188f",
   "metadata": {},
   "source": [
    "---\n",
    "\n",
    "### Question 6: Wide to Long - Education Data (Part 1)\n",
    "**Task**: Create a DataFrame called `education_long` that:\n",
    "1. Filters gapminder to only year 2010\n",
    "2. Selects only the columns: `country`, `region`, `years_in_school_men`, `years_in_school_women`\n",
    "3. Reshapes from wide to long format using `melt()` so that:\n",
    "   - `country` and `region` remain as identifier columns\n",
    "   - The education columns become a variable called `gender`\n",
    "   - The values become a variable called `years_in_school`"
   ]
  },
  {
   "cell_type": "code",
   "execution_count": null,
   "id": "8c9978f9",
   "metadata": {},
   "outputs": [],
   "source": [
    "# Your code here\n",
    "education_long = ..."
   ]
  },
  {
   "cell_type": "markdown",
   "id": "6a2d7e0e",
   "metadata": {},
   "source": [
    "---\n",
    "\n",
    "### Question 7: Wide to Long - Education Data (Part 2)\n",
    "**Task**: Building on Question 6, create a cleaned version called `education_clean` where:\n",
    "1. The `gender` column values are cleaned up:\n",
    "   - `years_in_school_men` → `Male`\n",
    "   - `years_in_school_women` → `Female`"
   ]
  },
  {
   "cell_type": "code",
   "execution_count": null,
   "id": "ce8c8007",
   "metadata": {},
   "outputs": [],
   "source": [
    "# Your code here (starting from education_long from Question 6)\n",
    "education_clean = ..."
   ]
  },
  {
   "cell_type": "markdown",
   "id": "dad78a43",
   "metadata": {},
   "source": [
    "---\n",
    "\n",
    "### Question 8: Wide to Long - Demographic Indicators\n",
    "**Task**: Create a DataFrame called `demographic_long` that:\n",
    "1. Filters gapminder to year 2000\n",
    "2. Selects columns: `country`, `region`, `life_expectancy`, `income`, `population`\n",
    "3. Reshapes the three indicator columns (life_expectancy, income, population) from wide to long format with:\n",
    "   - Variable name: `indicator`\n",
    "   - Value name: `value`"
   ]
  },
  {
   "cell_type": "code",
   "execution_count": null,
   "id": "d56d0a4e",
   "metadata": {},
   "outputs": [],
   "source": [
    "# Your code here\n",
    "demographic_long = ..."
   ]
  },
  {
   "cell_type": "markdown",
   "id": "a0fba895",
   "metadata": {},
   "source": [
    "---\n",
    "\n",
    "### Question 9: Complex Filtering + Renaming\n",
    "**Task**: Create a DataFrame called `asia_wealthy_renamed` that:\n",
    "1. Filters to only Asian countries\n",
    "2. Filters to years 2000 or later\n",
    "3. Filters to countries with income >= 30,000\n",
    "4. Renames columns:\n",
    "   - `life_expectancy` → `avg_lifespan`\n",
    "   - `pop_density` → `people_per_km2`"
   ]
  },
  {
   "cell_type": "code",
   "execution_count": null,
   "id": "ca30c593",
   "metadata": {},
   "outputs": [],
   "source": [
    "# Your code here\n",
    "asia_wealthy_renamed = ..."
   ]
  },
  {
   "cell_type": "markdown",
   "id": "98493395",
   "metadata": {},
   "source": [
    "---\n",
    "\n",
    "### Question 10: Full Pipeline - Filter, Melt, Clean\n",
    "**Task**: Create a DataFrame called `health_indicators_final` that:\n",
    "1. Filters gapminder to only the countries: Canada, United States, Mexico\n",
    "2. Filters to years between 2005 and 2015 (inclusive)\n",
    "3. Selects columns: `country`, `year`, `life_expectancy`, `child_mortality`\n",
    "4. Reshapes from wide to long so that life_expectancy and child_mortality become:\n",
    "   - Variable name: `health_metric`\n",
    "   - Value name: `metric_value`\n",
    "5. Cleans the `health_metric` values:\n",
    "   - `life_expectancy` → `Life Expectancy (years)`\n",
    "   - `child_mortality` → `Under-5 Mortality Rate`"
   ]
  },
  {
   "cell_type": "code",
   "execution_count": null,
   "id": "2bf14621",
   "metadata": {},
   "outputs": [],
   "source": [
    "# Your code here\n",
    "health_indicators_final = ..."
   ]
  },
  {
   "cell_type": "markdown",
   "id": "284051c4",
   "metadata": {
    "lines_to_next_cell": 0
   },
   "source": [
    "---\n",
    "\n",
    "## Solutions\n",
    "\n",
    "### Solution 1"
   ]
  },
  {
   "cell_type": "code",
   "execution_count": null,
   "id": "b7afa5e8",
   "metadata": {},
   "outputs": [],
   "source": [
    "european_data = gapminder[gapminder['region'] == 'Europe']\n",
    "# OR\n",
    "european_data = gapminder.query('region == \"Europe\"')\n",
    "european_data.head()"
   ]
  },
  {
   "cell_type": "markdown",
   "id": "dc91278b",
   "metadata": {
    "lines_to_next_cell": 0
   },
   "source": [
    "---\n",
    "\n",
    "### Solution 2"
   ]
  },
  {
   "cell_type": "code",
   "execution_count": null,
   "id": "40b1863b",
   "metadata": {},
   "outputs": [],
   "source": [
    "high_income_2015 = gapminder[\n",
    "    (gapminder['year'].dt.year == 2015) & \n",
    "    (gapminder['income'] >= 50000)\n",
    "]\n",
    "# OR\n",
    "high_income_2015 = gapminder.query('year.dt.year == 2015 and income >= 50000')\n",
    "\n",
    "\n",
    "#show result\n",
    "high_income_2015.sample(10)"
   ]
  },
  {
   "cell_type": "markdown",
   "id": "6f6f7197",
   "metadata": {
    "lines_to_next_cell": 0
   },
   "source": [
    "---\n",
    "\n",
    "### Solution 3"
   ]
  },
  {
   "cell_type": "code",
   "execution_count": null,
   "id": "5e9f6777",
   "metadata": {},
   "outputs": [],
   "source": [
    "brics_countries = ['Brazil', 'Russia', 'India', 'China', 'South Africa']\n",
    "brics_data = gapminder[gapminder['country'].isin(brics_countries)]\n",
    "\n",
    "# Show solution\n",
    "brics_data.sample(10)"
   ]
  },
  {
   "cell_type": "markdown",
   "id": "70be0649",
   "metadata": {
    "lines_to_next_cell": 0
   },
   "source": [
    "---\n",
    "\n",
    "### Solution 4"
   ]
  },
  {
   "cell_type": "code",
   "execution_count": null,
   "id": "4020571b",
   "metadata": {},
   "outputs": [],
   "source": [
    "recent_african_data = gapminder[\n",
    "    (gapminder['region'] == 'Africa') &\n",
    "    (gapminder['year'].dt.year.between(2010, 2018)) &\n",
    "    (gapminder['population'] > 10_000_000)\n",
    "]\n",
    "# OR\n",
    "recent_african_data = gapminder.query(\n",
    "    'region == \"Africa\" and year.dt.year >= 2010 and year.dt.year <= 2018 and population > 10_000_000'\n",
    ")\n",
    "\n",
    "\n",
    "\n",
    "recent_african_data.sample(10)"
   ]
  },
  {
   "cell_type": "markdown",
   "id": "a8533d0e",
   "metadata": {
    "lines_to_next_cell": 0
   },
   "source": [
    "---\n",
    "\n",
    "### Solution 5"
   ]
  },
  {
   "cell_type": "code",
   "execution_count": null,
   "id": "4363499c",
   "metadata": {},
   "outputs": [],
   "source": [
    "gapminder_renamed = gapminder.rename(columns={\n",
    "    'life_expectancy': 'life_exp',\n",
    "    'children_per_woman': 'fertility_rate',\n",
    "    'child_mortality': 'under5_mortality',\n",
    "    'co2_per_capita': 'co2_emissions'\n",
    "})\n",
    "\n",
    "# show solution\n",
    "gapminder_renamed.head()"
   ]
  },
  {
   "cell_type": "markdown",
   "id": "989536eb",
   "metadata": {
    "lines_to_next_cell": 0
   },
   "source": [
    "---\n",
    "\n",
    "### Solution 6"
   ]
  },
  {
   "cell_type": "code",
   "execution_count": null,
   "id": "469bfaaa",
   "metadata": {},
   "outputs": [],
   "source": [
    "# Filter to 2010 and select columns\n",
    "education_2010 = gapminder[gapminder['year'].dt.year == 2010][\n",
    "    ['country', 'region', 'years_in_school_men', 'years_in_school_women']\n",
    "]\n",
    "\n",
    "# Reshape from wide to long\n",
    "education_long = education_2010.melt(\n",
    "    id_vars=['country', 'region'],\n",
    "    value_vars=['years_in_school_men', 'years_in_school_women'],\n",
    "    var_name='gender',\n",
    "    value_name='years_in_school'\n",
    ")\n",
    "\n",
    "education_long.sample(10)"
   ]
  },
  {
   "cell_type": "markdown",
   "id": "965800a0",
   "metadata": {
    "lines_to_next_cell": 0
   },
   "source": [
    "---\n",
    "\n",
    "### Solution 7"
   ]
  },
  {
   "cell_type": "code",
   "execution_count": null,
   "id": "4c744a54",
   "metadata": {},
   "outputs": [],
   "source": [
    "# Clean up gender labels\n",
    "gender_mapping = {\n",
    "    'years_in_school_men': 'Male',\n",
    "    'years_in_school_women': 'Female'\n",
    "}\n",
    "education_clean = education_long.copy()\n",
    "education_clean['gender'] = education_clean['gender'].map(gender_mapping)\n",
    "\n",
    "# OR in one step from Question 6:\n",
    "education_clean = education_long.copy()\n",
    "education_clean['gender'] = education_clean['gender'].str.replace('years_in_school_', '').str.capitalize()\n",
    "\n",
    "\n",
    "#show data\n",
    "education_clean.sample(10)"
   ]
  },
  {
   "cell_type": "markdown",
   "id": "58d94c54",
   "metadata": {
    "lines_to_next_cell": 0
   },
   "source": [
    "---\n",
    "\n",
    "### Solution 8"
   ]
  },
  {
   "cell_type": "code",
   "execution_count": null,
   "id": "924d6d24",
   "metadata": {},
   "outputs": [],
   "source": [
    "# Filter and select\n",
    "demo_2000 = gapminder[gapminder['year'].dt.year == 2000][\n",
    "    ['country', 'region', 'life_expectancy', 'income', 'population']\n",
    "]\n",
    "\n",
    "# Reshape\n",
    "demographic_long = demo_2000.melt(\n",
    "    id_vars=['country', 'region'],\n",
    "    value_vars=['life_expectancy', 'income', 'population'],\n",
    "    var_name='indicator',\n",
    "    value_name='value'\n",
    ")\n",
    "\n",
    "demographic_long.head(10)"
   ]
  },
  {
   "cell_type": "markdown",
   "id": "bd51aad7",
   "metadata": {
    "lines_to_next_cell": 0
   },
   "source": [
    "---\n",
    "\n",
    "### Solution 9"
   ]
  },
  {
   "cell_type": "code",
   "execution_count": null,
   "id": "55f13fc3",
   "metadata": {},
   "outputs": [],
   "source": [
    "asia_wealthy_renamed = gapminder[\n",
    "    (gapminder['region'] == 'Asia') &\n",
    "    (gapminder['year'].dt.year >= 2000) &\n",
    "    (gapminder['income'] >= 30000)\n",
    "].rename(columns={\n",
    "    'life_expectancy': 'avg_lifespan',\n",
    "    'pop_density': 'people_per_km2'\n",
    "})\n",
    "\n",
    "\n",
    "asia_wealthy_renamed.sample(10)"
   ]
  },
  {
   "cell_type": "markdown",
   "id": "a302b885",
   "metadata": {
    "lines_to_next_cell": 0
   },
   "source": [
    "---\n",
    "\n",
    "### Solution 10"
   ]
  },
  {
   "cell_type": "code",
   "execution_count": null,
   "id": "9ae1c57e",
   "metadata": {},
   "outputs": [],
   "source": [
    "# Step 1 & 2: Filter by countries and years\n",
    "north_america = ['Canada', 'United States', 'Mexico']\n",
    "health_filtered = gapminder[\n",
    "    (gapminder['country'].isin(north_america)) &\n",
    "    (gapminder['year'].dt.year.between(2005, 2015))\n",
    "]\n",
    "\n",
    "# Step 3: Select columns\n",
    "health_selected = health_filtered[['country', 'year', 'life_expectancy', 'child_mortality']]\n",
    "\n",
    "# Step 4: Reshape\n",
    "health_long = health_selected.melt(\n",
    "    id_vars=['country', 'year'],\n",
    "    value_vars=['life_expectancy', 'child_mortality'],\n",
    "    var_name='health_metric',\n",
    "    value_name='metric_value'\n",
    ")\n",
    "\n",
    "# Step 5: Clean metric names\n",
    "metric_mapping = {\n",
    "    'life_expectancy': 'Life Expectancy (years)',\n",
    "    'child_mortality': 'Under-5 Mortality Rate'\n",
    "}\n",
    "health_indicators_final = health_long.copy()\n",
    "health_indicators_final['health_metric'] = health_indicators_final['health_metric'].map(metric_mapping)\n",
    "\n",
    "\n",
    "health_indicators_final.sample(10)"
   ]
  },
  {
   "cell_type": "markdown",
   "id": "7b39e63d",
   "metadata": {},
   "source": [
    "---\n",
    "\n",
    "## Tips for Success \n",
    "Practice, practice and practice some more. \n",
    "\n",
    "1. **Practice the `.melt()` function** - Understanding `id_vars` vs `value_vars` is crucial\n",
    "2. **Remember to use `.copy()`** after filtering to avoid SettingWithCopyWarning\n",
    "3. **Use `.isin()` for filtering multiple categorical values** - It's cleaner than multiple OR conditions\n",
    "4. **For year filtering** - Remember that the year column is a datetime, so use `.dt.year` to extract the year\n",
    "5. **Column renaming** - Both `.rename(columns={})` and creating mappings with `.map()` are useful\n",
    "6. **Chain operations carefully** - Break complex operations into steps for debugging\n",
    "7. **Check your data types** - Use `.dtypes` if you're unsure about a column's type\n",
    "8. **Test incrementally** - Run each step and check the output before moving to the next\n"
   ]
  }
 ],
 "metadata": {
  "jupytext": {
   "cell_metadata_filter": "-all",
   "notebook_metadata_filter": "-all",
   "text_representation": {
    "extension": ".md",
    "format_name": "markdown"
   }
  },
  "kernelspec": {
   "display_name": "Python 3 (ipykernel)",
   "language": "python",
   "name": "python3"
  }
 },
 "nbformat": 4,
 "nbformat_minor": 5
}
