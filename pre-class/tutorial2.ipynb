{
 "cells": [
  {
   "cell_type": "markdown",
   "id": "e62ee97a",
   "metadata": {},
   "source": [
    "# Pre-Class Tutorial 2: Scatter Charts & Bar Charts Fundamentals\n",
    "\n",
    "## Overview\n",
    "\n",
    "This pre-class material introduces the fundamental concepts of data visualization using Altair, focusing on scatter charts and bar charts. You'll learn about the grammar of graphics, data types, encoding channels, and basic chart creation that will prepare you for the in-class lecture and assignment.\n",
    "\n",
    "**Time Required:** 90 minutes  \n",
    "**Prerequisites:** Basic Python and pandas knowledge\n",
    "\n",
    "---\n",
    "\n",
    "## Learning Goals\n",
    "\n",
    "By the end of this tutorial, you will be able to:\n",
    "- Understand the grammar of graphics: data, marks, and encoding channels\n",
    "- Identify and work with different data types (nominal, ordinal, quantitative, temporal)\n",
    "- Create basic scatter plots and bar charts using Altair\n",
    "- Apply individual encoding channels (position, color, size, shape) to visualize data\n",
    "- Distinguish between different bar chart types\n",
    "\n",
    "---\n",
    "\n",
    "## Part 1: Introduction to Altair & Grammar of Graphics\n",
    "\n",
    "### What is Altair?\n",
    "\n",
    "[Altair](https://altair-viz.github.io/) is a declarative statistical visualization library for Python. By *declarative*, we mean that you can provide a high-level specification of **what** you want the visualization to include, in terms of **data**, **graphical marks**, and **encoding channels**, rather than having to specify **how** to implement the visualization in terms of for-loops, low-level drawing commands, etc.\n",
    "\n",
    "The key idea is that you **specify associations** between **data fields** and **visual encoding channels**, such as the x-axis, y-axis, color, etc. The rest of the plot details are handled automatically.\n",
    "\n",
    "### Setup and Data\n",
    "\n",
    "We will be visualizing global health and population data for a number of countries, over the time period of 1955 to 2005. The data was collected by the [Gapminder Foundation](https://www.gapminder.org/) and shared in [Hans Rosling's popular TED talk](https://www.youtube.com/watch?v=hVimVzgtD6w). If you haven't seen the talk, we encourage you to watch it first!"
   ]
  },
  {
   "cell_type": "code",
   "execution_count": null,
   "id": "7b595ce5",
   "metadata": {},
   "outputs": [],
   "source": [
    "import pandas as pd\n",
    "import altair as alt\n",
    "#from vega_datasets import data\n",
    "\n",
    "\n",
    "#filepath = \"data/world-data-gapminder.csv\"\n",
    "filepath = 'https://raw.githubusercontent.com/kemiolamudzengi/dsci-320-datasets/main/world-data-gapminder.csv'\n",
    "\n",
    "# Read in the data using pandas, remember to set parse_dates!\n",
    "gm = pd.read_csv(filepath, parse_dates=[\"year\"])\n",
    "\n",
    "# Display basic information about the dataset\n",
    "print(f\"Dataset shape: {gm.shape}\")\n",
    "print(f\"Years covered: {gm.year.dt.year.min()} to {gm.year.dt.year.max()}\")\n",
    "print(f\"Number of countries: {gm.country.nunique()}\")\n",
    "print(f\"Regions included: {', '.join(sorted(gm.region.unique()))}\")\n",
    "print(f\"Column names: {sorted(gm.columns)}\")\n",
    "\n",
    "\n",
    "\n",
    "# Create a subset for 2000 data for clearer examples\n",
    "data2000 = gm[gm.year == '2000']   # notice how we have to treat it as a string to search, if you change this to an integer it breaks\n",
    "print(f\"Year 2000 subset: {data2000.shape}\")"
   ]
  },
  {
   "cell_type": "markdown",
   "id": "70882a0d",
   "metadata": {},
   "source": [
    "### Your First Chart: Single Channel Encoding\n",
    "\n",
    "Let's start with the simplest possible visualization - showing data along just one dimension. We'll create a chart that shows the distribution of fertility values using only the x-axis."
   ]
  },
  {
   "cell_type": "code",
   "execution_count": null,
   "id": "b8f0b95d",
   "metadata": {},
   "outputs": [],
   "source": [
    "# Step 1: Attach data to a chart object\n",
    "chart_with_data = alt.Chart(data2000)\n",
    "\n",
    "# Step 2: Specify what kind of mark (geometric shape) to use\n",
    "chart_with_marks = chart_with_data.mark_tick()\n",
    "\n",
    "# Step 3: Encode a data field to a visual channel\n",
    "simple_chart = chart_with_marks.encode(\n",
    "    x='children_per_woman'  # Map fertility values to x-axis position\n",
    ")\n",
    "\n",
    "# Display the chart\n",
    "simple_chart"
   ]
  },
  {
   "cell_type": "markdown",
   "id": "5df7a3a5",
   "metadata": {},
   "source": [
    "**Let's break this down step by step:**\n",
    "\n",
    "1. **`alt.Chart(data2000)`** - This creates a chart object and attaches our data to it. Think of this as preparing a blank canvas with your data ready to use.\n",
    "\n",
    "2. **`.mark_tick()`** - This tells Altair to use \"tick marks\" (short lines) to represent each data point. Tick marks are perfect for showing distributions along one axis.\n",
    "\n",
    "3. **`.encode(x='fertility')`** - This is where the magic happens! We're telling Altair to take the `fertility` field from our data and map it to the x-axis position. Each country's fertility rate determines where its tick mark appears horizontally.\n",
    "\n",
    "We can write this more concisely:"
   ]
  },
  {
   "cell_type": "code",
   "execution_count": null,
   "id": "0bec3de4",
   "metadata": {},
   "outputs": [],
   "source": [
    "# All in one line - this is the typical way to write Altair code\n",
    "alt.Chart(data2000).mark_tick().encode(x='children_per_woman')"
   ]
  },
  {
   "cell_type": "markdown",
   "id": "0d0a1785",
   "metadata": {},
   "source": [
    "### Adding a Second Channel: Two-Dimensional Visualization\n",
    "\n",
    "Now let's create our first scatter plot by adding a second encoding channel - the y-axis:"
   ]
  },
  {
   "cell_type": "code",
   "execution_count": null,
   "id": "eb29cec6",
   "metadata": {},
   "outputs": [],
   "source": [
    "# Two-channel encoding: both x and y position\n",
    "alt.Chart(data2000).mark_point().encode(\n",
    "    x='children_per_woman',     # Horizontal position shows fertility rate\n",
    "    y='life_expectancy'    # Vertical position shows life expectancy\n",
    ")"
   ]
  },
  {
   "cell_type": "markdown",
   "id": "bebf04fe",
   "metadata": {},
   "source": [
    "**What changed:**\n",
    "- **`.mark_point()`** instead of `.mark_tick()` - We switched to point marks (circles) because we're now showing relationships between two variables\n",
    "- **Added `y='life_expect'`** - Now each country appears as a point whose x-position shows fertility and y-position shows life expectancy\n",
    "\n",
    "This creates a scatter plot where we can see the relationship between fertility rates and life expectancy across countries.\n",
    "\n",
    "### Understanding the Grammar\n",
    "\n",
    "Every Altair chart follows this pattern:\n",
    "\n",
    "```\n",
    "alt.Chart([DATA]).mark_[TYPE]().encode([MAPPINGS])\n",
    "```"
   ]
  },
  {
   "cell_type": "markdown",
   "id": "25b31519",
   "metadata": {},
   "source": [
    "- **DATA**: Your dataset (pandas DataFrame)\n",
    "- **TYPE**: The geometric shape (point, bar, line, etc.)\n",
    "- **MAPPINGS**: How data fields map to visual properties (x, y, color, etc.)\n",
    "\n",
    "---\n",
    "\n",
    "## Part 2: Data Attribute Types\n",
    "\n",
    "The first ingredient in effective visualization is the input data. Data values can represent different forms of measurement. What kinds of comparisons do those measurements support? And what kinds of visual encodings then support those comparisons?\n",
    "\n",
    "Data types in visualization grammars are different from data types in programming (e.g. `int`, `float`, `string`, etc). In visualization, data is characterized as nominal/categorical, ordered, quantitative and in some grammars as temporal.\n",
    "\n",
    "We will start by looking at the basic data types that Altair uses to inform visual encoding choices. These data types determine the kinds of comparisons we can make, and thereby guide our visualization design decisions.\n",
    "\n",
    "### Nominal (N)\n",
    "\n",
    "**Nominal** data represent discrete categories or groups. With nominal data we can compare the *equality* of values: *is value A the same or different than value B? (A = B)*, supporting statements like \"A is equal to B\" or \"A is not equal to B\". In the dataset above, the `country` field is nominal.\n",
    "\n",
    "Here we can compare the equality of countries: the country value for the first row is \"Afghanistan\", the country value for the fourth row is \"Angola\", and Afghanistan ≠ Angola.\n",
    "\n",
    "Example nominal values include movie genres (action, comedy, drama, etc.), product categories (electronics, books, clothing), and in our dataset: country names and world regions.\n",
    "\n",
    "Let's see how nominal data affects visualization:"
   ]
  },
  {
   "cell_type": "code",
   "execution_count": null,
   "id": "2374fb4e",
   "metadata": {},
   "outputs": [],
   "source": [
    "# First, let's look at the region field (nominal data)\n",
    "print(\"Unique regions:\", data2000['region'].unique())\n",
    "\n",
    "# Simple bar chart using nominal data\n",
    "alt.Chart(data2000).mark_bar().encode(\n",
    "    x='region:N'  # :N explicitly tells Altair this is nominal data\n",
    ")"
   ]
  },
  {
   "cell_type": "markdown",
   "id": "52cba179",
   "metadata": {},
   "source": [
    "**Step-by-step explanation:**\n",
    "1. **`'region:N'`** - The `:N` suffix explicitly tells Altair to treat region as nominal data\n",
    "2. **Automatic behavior** - Altair automatically counts how many countries are in each region and creates bars showing those counts\n",
    "3. **Axis treatment** - Nominal data gets evenly spaced along the axis with category labels\n",
    "\n",
    "### Ordinal (O)\n",
    "\n",
    "**Ordinal** data represent discrete categories with a meaningful order. With ordinal data we can make *rank-order* comparisons: *is value A less than, equal to, or greater than value B? (A < B, A = B, A > B)*. Ordinal data support both equality and rank-order operations.\n",
    "\n",
    "Examples include education levels (elementary < middle school < high school < college), income brackets (low < medium < high), survey responses (disagree < neutral < agree), and t-shirt sizes (small < medium < large).\n",
    "\n",
    "Let's create ordinal data from our dataset:"
   ]
  },
  {
   "cell_type": "code",
   "execution_count": null,
   "id": "cdd0bb32",
   "metadata": {},
   "outputs": [],
   "source": [
    "# Create ordinal population categories\n",
    "import numpy as np\n",
    "data2000_with_pop_category = data2000.copy()\n",
    "data2000_with_pop_category['pop_category'] = pd.cut(\n",
    "    data2000_with_pop_category['population'], \n",
    "    bins=[0, 5e6, 20e6, 100e6, np.inf], \n",
    "    labels=['Small', 'Medium', 'Large', 'Very Large']\n",
    ")\n",
    "\n",
    "# Use ordinal encoding - notice the difference from nominal\n",
    "alt.Chart(data2000_with_pop_category).mark_bar().encode(\n",
    "    x='pop_category:O'  # :O tells Altair this is ordinal (ordered)\n",
    ")"
   ]
  },
  {
   "cell_type": "markdown",
   "id": "a2688a62",
   "metadata": {},
   "source": [
    "**Key difference from nominal:** The categories appear in their logical order (Small, Medium, Large, Very Large) rather than alphabetical order.\n",
    "\n",
    "### Quantitative (Q)\n",
    "\n",
    "**Quantitative** data represent numerical measurements. With quantitative data we can make *magnitude* comparisons: *by how much is value A larger or smaller than value B? (A - B = ?)*. Quantitative data support equality, rank-order, and arithmetic operations.\n",
    "\n",
    "Examples include measurements such as height, weight, temperature, counts, and rates. In our dataset, `fertility` (children per woman), `life_expect` (life expectancy in years), and `pop` (population) are all quantitative."
   ]
  },
  {
   "cell_type": "code",
   "execution_count": null,
   "id": "012697cb",
   "metadata": {},
   "outputs": [],
   "source": [
    "# Using quantitative data - notice how the axis changes\n",
    "alt.Chart(data2000).mark_tick().encode(\n",
    "    x='children_per_woman:Q'  # :Q tells Altair this is quantitative\n",
    ")"
   ]
  },
  {
   "cell_type": "markdown",
   "id": "27939875",
   "metadata": {},
   "source": [
    "**Step-by-step explanation:**\n",
    "1. **Continuous axis** - Unlike nominal/ordinal data, quantitative data gets a continuous numerical axis\n",
    "2. **Tick marks** - Each tick mark represents one country positioned according to its exact fertility value\n",
    "3. **Automatic scaling** - Altair automatically determines appropriate axis limits and tick marks\n",
    "\n",
    "Let's compare the same data field treated as different types:"
   ]
  },
  {
   "cell_type": "code",
   "execution_count": null,
   "id": "e4834b43",
   "metadata": {},
   "outputs": [],
   "source": [
    "# Fertility as quantitative (continuous axis)\n",
    "quant_chart = alt.Chart(data2000).mark_tick().encode(x='children_per_woman:Q')\n",
    "\n",
    "# Fertility as nominal (categorical axis) - treating numbers as categories\n",
    "nom_chart = alt.Chart(data2000).mark_tick().encode(x='children_per_woman:N')\n",
    "\n",
    "# Display both to see the difference\n",
    "quant_chart & nom_chart  # Side-by-side comparison"
   ]
  },
  {
   "cell_type": "markdown",
   "id": "a0e6fd9a",
   "metadata": {},
   "source": [
    "### Temporal (T)\n",
    "\n",
    "**Temporal** values measure time points or intervals. This type is a special case of quantitative values (timestamps) with rich semantics and conventions (i.e., the [Gregorian calendar](https://en.wikipedia.org/wiki/Gregorian_calendar)). The temporal type in Altair supports reasoning about time units (year, month, day, hour, etc.), and provides methods for requesting specific time intervals.\n",
    "\n",
    "Example temporal values include date strings such as `\"2019-01-04\"` and `\"Jan 04 2019\"`, as well as standardized date-times such as the [ISO date-time format](https://en.wikipedia.org/wiki/ISO_8601): `\"2019-01-04T17:50:35.643Z\"`."
   ]
  },
  {
   "cell_type": "code",
   "execution_count": null,
   "id": "12d49b6f",
   "metadata": {},
   "outputs": [],
   "source": [
    "# Using year as temporal data - shows time progression\n",
    "canada_data = gm[gm.country == 'Canada']\n",
    "alt.Chart(canada_data).mark_line().encode(\n",
    "    x='year:T',           # :T tells Altair this is temporal data\n",
    "    y='life_expectancy:Q'\n",
    ")"
   ]
  },
  {
   "cell_type": "markdown",
   "id": "53ca0583",
   "metadata": {},
   "source": [
    "### Data Type Hierarchy\n",
    "\n",
    "The data types presented are not mutually exclusive, but rather form a hierarchy: ordinal data support nominal (equality) comparisons, while quantitative data support ordinal (rank-order) comparisons.\n",
    "\n",
    "Moreover, these data types do **not** provide a fixed categorization. Just because a data field is represented using a number doesn't mean we have to treat it as a quantitative type! For example, we might interpret a set of ages (10 years old, 20 years old, etc) as nominal (underage or overage), ordinal (grouped by year), or quantitative (calculate average age).\n",
    "\n",
    "---\n",
    "\n",
    "## Part 3: Encoding Channels\n",
    "\n",
    "When discussing data items, the word **attribute** is used to signify the data that describes the item. In the context of visualizations, we will use the words **field** and **attribute** interchangeably.\n",
    "\n",
    "At the heart of Altair is the use of *encodings* that bind data fields (with a given data type) to available encoding *channels* of a chosen *mark* type. In this section we'll examine the following encoding channels:\n",
    "\n",
    "- `x`: Horizontal (x-axis) position of the mark.\n",
    "- `y`: Vertical (y-axis) position of the mark.\n",
    "- `size`: Size of the mark. May correspond to area or length, depending on the mark type.\n",
    "- `color`: Mark color, specified as a [legal CSS color](https://developer.mozilla.org/en-US/docs/Web/CSS/color_value).\n",
    "- `opacity`: Mark opacity, ranging from 0 (fully transparent) to 1 (fully opaque).\n",
    "- `shape`: Plotting symbol shape for `point` marks.\n",
    "- `tooltip`: Tooltip text to display upon mouse hover over the mark.\n",
    "- `order`: Mark ordering, determines line/area point order and drawing order.\n",
    "\n",
    "For a complete list of available channels, see the [Altair encoding documentation](https://altair-viz.github.io/user_guide/encoding.html).\n",
    "\n",
    "### Position Channels: The Foundation\n",
    "\n",
    "Position is the most accurate channel for conveying quantitative information. Let's explore position channels one at a time.\n",
    "\n",
    "#### Single Position Channel (X-axis only)"
   ]
  },
  {
   "cell_type": "code",
   "execution_count": null,
   "id": "020d343f",
   "metadata": {},
   "outputs": [],
   "source": [
    "# Using only the x-channel to show distribution\n",
    "alt.Chart(data2000).mark_tick().encode(\n",
    "    x='children_per_woman:Q'  # Only x-position is encoded\n",
    ")"
   ]
  },
  {
   "cell_type": "markdown",
   "id": "edb47fdc",
   "metadata": {},
   "source": [
    "This creates a one-dimensional plot showing how fertility values are distributed across countries.\n",
    "\n",
    "#### Single Position Channel (Y-axis only)"
   ]
  },
  {
   "cell_type": "code",
   "execution_count": null,
   "id": "04b9b97b",
   "metadata": {},
   "outputs": [],
   "source": [
    "# Using only the y-channel \n",
    "alt.Chart(data2000).mark_tick().encode(\n",
    "    y='life_expectancy:Q'  # Only y-position is encoded\n",
    ")"
   ]
  },
  {
   "cell_type": "markdown",
   "id": "c1ddfdfd",
   "metadata": {},
   "source": [
    "This creates a vertical distribution of life expectancy values.\n",
    "\n",
    "#### Both Position Channels Together"
   ]
  },
  {
   "cell_type": "code",
   "execution_count": null,
   "id": "95c080f2",
   "metadata": {},
   "outputs": [],
   "source": [
    "# Using both x and y channels creates a scatter plot\n",
    "alt.Chart(data2000).mark_point().encode(\n",
    "    x='children_per_woman:Q',        # Horizontal position\n",
    "    y='life_expectancy:Q'       # Vertical position\n",
    ")"
   ]
  },
  {
   "cell_type": "markdown",
   "id": "ded12dd9",
   "metadata": {},
   "source": [
    "**Step-by-step explanation:**\n",
    "1. **Two dimensions** - Now each country is represented by a point whose position encodes two pieces of information\n",
    "2. **Relationships** - We can see how fertility and life expectancy relate to each other\n",
    "3. **Mark choice** - We switched to `mark_point()` because points work better than ticks for two-dimensional data\n",
    "\n",
    "### Color Channel: Adding a Third Dimension\n",
    "\n",
    "The `color` channel encodes data values using color. Let's see how color works with nominal data first:"
   ]
  },
  {
   "cell_type": "code",
   "execution_count": null,
   "id": "13c09ffc",
   "metadata": {},
   "outputs": [],
   "source": [
    "# Adding color for nominal data\n",
    "alt.Chart(data2000).mark_point().encode(\n",
    "    x='children_per_woman:Q',\n",
    "    y='life_expectancy:Q',\n",
    "    color='region:N'  # Color represents region membership\n",
    ")"
   ]
  },
  {
   "cell_type": "markdown",
   "id": "85e81ff4",
   "metadata": {},
   "source": [
    "**Step-by-step explanation:**\n",
    "1. **Three dimensions** - We now show fertility, life expectancy, AND region membership in one chart\n",
    "2. **Automatic legend** - Altair automatically creates a legend showing which color represents which region\n",
    "3. **Distinct colors** - For nominal data, Altair uses clearly different colors for each category\n",
    "\n",
    "Now let's try color with quantitative data:"
   ]
  },
  {
   "cell_type": "code",
   "execution_count": null,
   "id": "6aec948d",
   "metadata": {},
   "outputs": [],
   "source": [
    "# Color with quantitative data\n",
    "alt.Chart(data2000).mark_point().encode(\n",
    "    x='children_per_woman:Q',\n",
    "    y='life_expectancy:Q',\n",
    "    color='population:Q'  # Color intensity represents population\n",
    ")"
   ]
  },
  {
   "cell_type": "markdown",
   "id": "063d9eec",
   "metadata": {},
   "source": [
    "**Notice the difference:**\n",
    "- **Color gradient** - Quantitative data uses a continuous color gradient instead of distinct colors\n",
    "- **Different legend** - The legend shows a color bar with numerical scale instead of categories\n",
    "\n",
    "### Size Channel: Yet Another Dimension\n",
    "\n",
    "The `size` channel controls the size of marks. Size is most appropriate for quantitative data:"
   ]
  },
  {
   "cell_type": "code",
   "execution_count": null,
   "id": "d792e643",
   "metadata": {},
   "outputs": [],
   "source": [
    "# Adding size encoding\n",
    "alt.Chart(data2000).mark_point().encode(\n",
    "    x='children_per_woman:Q',\n",
    "    y='life_expectancy:Q',\n",
    "    size='population:Q'  # Point size represents population\n",
    ")"
   ]
  },
  {
   "cell_type": "markdown",
   "id": "cba5f17b",
   "metadata": {},
   "source": [
    "**Step-by-step explanation:**\n",
    "1. **Area encoding** - Point size typically represents area, so larger points have much more visual impact\n",
    "2. **Magnitude comparisons** - Size is excellent for showing \"how much\" something is\n",
    "3. **Automatic scaling** - Altair automatically scales the sizes to be visually appropriate\n",
    "\n",
    "### Shape Channel: For Categories Only\n",
    "\n",
    "The `shape` encoding channel sets the plotting symbol used by `point` marks. The shape encoding channel should only be used with nominal data, as perceptual rank-order and magnitude comparisons are not supported."
   ]
  },
  {
   "cell_type": "code",
   "execution_count": null,
   "id": "66810a90",
   "metadata": {},
   "outputs": [],
   "source": [
    "# Shape encoding for nominal data\n",
    "alt.Chart(data2000).mark_point().encode(\n",
    "    x='children_per_woman:Q',\n",
    "    y='life_expectancy:Q',\n",
    "    shape='region:N'  # Different shapes for each region\n",
    ")"
   ]
  },
  {
   "cell_type": "markdown",
   "id": "b35a7fe9",
   "metadata": {},
   "source": [
    "**Important:** Shape only works with nominal data because there's no natural ordering to shapes (is a circle \"greater than\" a square?).\n",
    "\n",
    "### Opacity Channel: Transparency Effects\n",
    "\n",
    "The `opacity` channel controls the transparency of marks, with values ranging from 0 (fully transparent) to 1 (fully opaque):"
   ]
  },
  {
   "cell_type": "code",
   "execution_count": null,
   "id": "b3c809b0",
   "metadata": {},
   "outputs": [],
   "source": [
    "# Opacity encoding\n",
    "alt.Chart(data2000).mark_point(filled=True).encode(\n",
    "    x='children_per_woman:Q',\n",
    "    y='life_expectancy:Q',\n",
    "    opacity='population:Q'  # Transparency represents population\n",
    ")"
   ]
  },
  {
   "cell_type": "markdown",
   "id": "5c8fe439",
   "metadata": {},
   "source": [
    "**Note:** We added `filled=True` to make the opacity effect more visible.\n",
    "\n",
    "### Tooltip Channel: Additional Information\n",
    "\n",
    "The `tooltip` channel specifies information to display when hovering over a mark:"
   ]
  },
  {
   "cell_type": "code",
   "execution_count": null,
   "id": "b71595af",
   "metadata": {},
   "outputs": [],
   "source": [
    "# Adding tooltips\n",
    "alt.Chart(data2000).mark_point().encode(\n",
    "    x='children_per_woman:Q',\n",
    "    y='life_expectancy:Q',\n",
    "    tooltip=['country', 'population', 'region']  # Show these fields on hover\n",
    ")"
   ]
  },
  {
   "cell_type": "markdown",
   "id": "f09d3ac9",
   "metadata": {},
   "source": [
    "**Step-by-step explanation:**\n",
    "1. **List of fields** - We provide a list of field names to show in the tooltip\n",
    "2. **Interactive information** - Hover over any point to see additional details\n",
    "3. **No visual encoding** - Tooltips don't change the appearance of the chart, just add information\n",
    "\n",
    "---\n",
    "\n",
    "## Part 4: Graphical Marks\n",
    "\n",
    "A visualization represents data using a collection of *graphical marks* (bars, lines, points, etc.). The attributes of a mark — such as its position, shape, size, or color — serve as *channels* through which we can encode underlying data values.\n",
    "\n",
    "### Point Marks\n",
    "\n",
    "The `point` mark type conveys specific points, as in *scatter plots* and *dot plots*. Point marks are typically used to show the relationship between two or more quantitative variables, and are often the mark of choice for exploratory data analysis.\n",
    "\n",
    "For more details, see the [Altair point mark documentation](https://altair-viz.github.io/user_guide/marks.html#point-mark).\n",
    "\n",
    "Below is a scatter plot of `children_per_woman` vs `life_expect`, with the `region` field encoded using the `color` channel:"
   ]
  },
  {
   "cell_type": "code",
   "execution_count": null,
   "id": "aa3c2e8d",
   "metadata": {},
   "outputs": [],
   "source": [
    "alt.Chart(data2000).mark_point().encode(\n",
    "    x='children_per_woman:Q',\n",
    "    y='life_expectancy:Q',\n",
    "    color='region:N'\n",
    ")"
   ]
  },
  {
   "cell_type": "markdown",
   "id": "33222003",
   "metadata": {},
   "source": [
    "### Circle Marks\n",
    "\n",
    "The `circle` mark type is similar to `point`, but specifically creates filled circles. Circle marks are often more visually prominent than standard points and work well when you want to emphasize individual data points.\n",
    "\n",
    "For more details, see the [Altair circle mark documentation](https://altair-viz.github.io/user_guide/marks.html#circle-mark).\n",
    "\n",
    "Below is the same visualization using circle marks instead of points:"
   ]
  },
  {
   "cell_type": "code",
   "execution_count": null,
   "id": "f22a3602",
   "metadata": {},
   "outputs": [],
   "source": [
    "alt.Chart(data2000).mark_circle().encode(\n",
    "    x='children_per_woman:Q',\n",
    "    y='life_expectancy:Q',\n",
    "    color='region:N'\n",
    ")"
   ]
  },
  {
   "cell_type": "markdown",
   "id": "d06ccb18",
   "metadata": {},
   "source": [
    "### Square Marks\n",
    "\n",
    "The `square` mark type creates square-shaped points. Square marks can be useful for creating distinct visual styles or when you want to use shape as an additional encoding channel alongside circular points.\n",
    "\n",
    "For more details, see the [Altair square mark documentation](https://altair-viz.github.io/user_guide/marks.html#square-mark).\n",
    "\n",
    "Below is a scatter plot using square marks:"
   ]
  },
  {
   "cell_type": "code",
   "execution_count": null,
   "id": "c42f34e9",
   "metadata": {},
   "outputs": [],
   "source": [
    "alt.Chart(data2000).mark_square().encode(\n",
    "    x='children_per_woman:Q',\n",
    "    y='life_expectancy:Q',\n",
    "    color='region:N'\n",
    ")"
   ]
  },
  {
   "cell_type": "markdown",
   "id": "6b82e2de",
   "metadata": {},
   "source": [
    "### Tick Marks\n",
    "\n",
    "The `tick` mark type draws short line segments, and is often used to show the distribution of values along one or both axes. Tick marks are particularly useful for creating rug plots or showing the distribution of a single variable.\n",
    "\n",
    "For more details, see the [Altair tick mark documentation](https://altair-viz.github.io/user_guide/marks.html#tick-mark).\n",
    "\n",
    "Below is a tick plot showing the distribution of fertility values:"
   ]
  },
  {
   "cell_type": "code",
   "execution_count": null,
   "id": "787aa5eb",
   "metadata": {},
   "outputs": [],
   "source": [
    "alt.Chart(data2000).mark_tick().encode(\n",
    "    x='children_per_woman:Q'\n",
    ")"
   ]
  },
  {
   "cell_type": "markdown",
   "id": "804861d1",
   "metadata": {},
   "source": [
    "### Bar Marks\n",
    "\n",
    "The `bar` mark type creates rectangular bars and is one of the most widely used mark types for visualization. Bar marks are excellent for comparing quantities across categories and for showing distributions of categorical data.\n",
    "\n",
    "For more details, see the [Altair bar mark documentation](https://altair-viz.github.io/user_guide/marks.html#bar-mark).\n",
    "\n",
    "Below is a bar chart showing the count of countries by region:"
   ]
  },
  {
   "cell_type": "code",
   "execution_count": null,
   "id": "3bb01f8c",
   "metadata": {},
   "outputs": [],
   "source": [
    "alt.Chart(data2000).mark_bar().encode(\n",
    "    x='region:N',\n",
    "    y='count():Q'  # count() automatically counts rows per region\n",
    ")"
   ]
  },
  {
   "cell_type": "markdown",
   "id": "659079d4",
   "metadata": {},
   "source": [
    "**Step-by-step explanation:**\n",
    "1. **Automatic aggregation** - `count():Q` tells Altair to count how many rows (countries) are in each region\n",
    "2. **Bar heights** - Each bar's height represents the count of countries in that region\n",
    "3. **Category spacing** - Nominal data on x-axis creates evenly spaced category labels\n",
    "\n",
    "---\n",
    "\n",
    "## Part 5: Basic Bar Charts\n",
    "\n",
    "The Bar chart was developed by [William Playfair](https://en.wikipedia.org/wiki/William_Playfair#Bar_chart) in 1786, and since then it has gone on to become one of the most widely used visual representations. One of the reasons why the chart is so effective is that the way quantitative data is encoded capitalizes on the visuo-perceptual system.\n",
    "\n",
    "### Simple Bar Chart\n",
    "\n",
    "Let's start with the most basic bar chart - counting countries by region:"
   ]
  },
  {
   "cell_type": "code",
   "execution_count": null,
   "id": "43624d9f",
   "metadata": {},
   "outputs": [],
   "source": [
    "# Basic bar chart\n",
    "alt.Chart(data2000).mark_bar().encode(\n",
    "    x='region:N',    # Categories on x-axis\n",
    "    y='count():Q'     # Count on y-axis\n",
    ")"
   ]
  },
  {
   "cell_type": "markdown",
   "id": "5c94ce85",
   "metadata": {},
   "source": [
    "### Horizontal Bar Chart\n",
    "\n",
    "Sometimes horizontal orientation works better, especially when category names are long:"
   ]
  },
  {
   "cell_type": "code",
   "execution_count": null,
   "id": "178b1ef4",
   "metadata": {},
   "outputs": [],
   "source": [
    "# Horizontal bar chart - swap x and y\n",
    "alt.Chart(data2000).mark_bar().encode(\n",
    "    y='region:N',    # Categories on y-axis\n",
    "    x='count():Q'     # Count on x-axis\n",
    ")"
   ]
  },
  {
   "cell_type": "markdown",
   "id": "60280a4c",
   "metadata": {},
   "source": [
    "### Basic Sorting\n",
    "\n",
    "We can sort bars to make patterns more apparent:"
   ]
  },
  {
   "cell_type": "code",
   "execution_count": null,
   "id": "4e13c3da",
   "metadata": {},
   "outputs": [],
   "source": [
    "# Sort bars by count (descending)\n",
    "alt.Chart(data2000).mark_bar().encode(\n",
    "    x=alt.X('region:N', sort='-y'),  # Sort by y values, descending\n",
    "    y='count():Q'\n",
    ")"
   ]
  },
  {
   "cell_type": "markdown",
   "id": "6cbef639",
   "metadata": {},
   "source": [
    "**Step-by-step explanation:**\n",
    "1. **`alt.X()`** - We use the full encoding specification instead of just the string\n",
    "2. **`sort='-y'`** - Sort by the y-channel values in descending order (the minus sign means descending)\n",
    "3. **Result** - Region are now ordered from most to least countries\n",
    "\n",
    "### Simple Stacked Bar Chart\n",
    "\n",
    "Let's create a basic stacked bar chart by adding color encoding:"
   ]
  },
  {
   "cell_type": "code",
   "execution_count": null,
   "id": "5e3f375c",
   "metadata": {},
   "outputs": [],
   "source": [
    "# Simple stacked chart - let Altair handle the stacking\n",
    "alt.Chart(data2000).mark_bar().encode(\n",
    "    x='region:N',\n",
    "    y='count():Q',\n",
    "    color='region:N'  # Adding color automatically creates stacking\n",
    ")"
   ]
  },
  {
   "cell_type": "markdown",
   "id": "a0243497",
   "metadata": {},
   "source": [
    "**Note:** This creates a stacked effect even though we're using the same field for both x and color. This shows the basic stacking mechanism.\n",
    "\n",
    "---\n",
    "\n",
    "## Part 6: Practice Exercises\n",
    "\n",
    "Before moving to the in-class lecture, try these exercises to reinforce your learning:\n",
    "\n",
    "### Exercise 1: Single Channel Encoding\n",
    "Create a chart showing the distribution of life expectancy using only tick marks along the y-axis.\n",
    "\n",
    "### Exercise 2: Basic Scatter Plot\n",
    "Create a scatter plot showing the relationship between population (`population`) and GDP per capita (`gdpPercap`).\n",
    "\n",
    "### Exercise 3: Adding Color\n",
    "Take your scatter plot from Exercise 2 and add color encoding for the `reigon` field.\n",
    "\n",
    "### Exercise 4: Bar Chart Practice\n",
    "Create a horizontal bar chart showing the count of countries by region, sorted from most to least countries.\n",
    "\n",
    "### Exercise 5: Data Type Experiment\n",
    "Create the same 1-dimensional chart using fertility data, but try it with both `:Q` (quantitative) and `:N` (nominal) data types. Compare the results.\n",
    "\n",
    "**Example Solution for Exercise 1:**\n",
    "\n",
    "---\n",
    "\n",
    "## Part 7: Key Concepts Summary\n",
    "\n",
    "### Grammar of Graphics Pattern\n",
    "\n",
    "```\n",
    "alt.Chart([DATA]).mark_[TYPE]().encode([MAPPINGS])\n",
    "```"
   ]
  },
  {
   "cell_type": "markdown",
   "id": "e5de4e7c",
   "metadata": {},
   "source": [
    "### Data Type Suffixes\n",
    "- `:N` - Nominal (categories, no order)\n",
    "- `:O` - Ordinal (categories with order)  \n",
    "- `:Q` - Quantitative (numbers, measurements)\n",
    "- `:T` - Temporal (dates and times)\n",
    "\n",
    "### Common Mark Types\n",
    "- `.mark_point()` - Scatter plot points\n",
    "- `.mark_circle()` - Filled circles\n",
    "- `.mark_bar()` - Bar charts\n",
    "- `.mark_tick()` - Distribution marks\n",
    "\n",
    "### Essential Encoding Channels\n",
    "- `x`, `y` - Position (most important)\n",
    "- `color` - Categories or intensity\n",
    "- `size` - Magnitude (quantitative only)  \n",
    "- `shape` - Categories only\n",
    "- `opacity` - Transparency\n",
    "- `tooltip` - Additional information\n",
    "\n",
    "---\n",
    "\n",
    "## Preparing for Class\n",
    "\n",
    "Make sure you understand:\n",
    "\n",
    "### Core Concepts\n",
    "- How to build charts step-by-step from data + marks + encodings\n",
    "- The difference between data types and when to use each\n",
    "- How different encoding channels show different aspects of data\n",
    "- When to use scatter plots vs. bar charts\n",
    "\n",
    "### Essential Skills\n",
    "- Creating single-channel charts (just x or just y)\n",
    "- Building up to two-channel scatter plots\n",
    "- Making basic bar charts with automatic counting\n",
    "- Applying different data types to the same field\n",
    "\n",
    "### Questions to Consider\n",
    "- How does changing the data type (`:N` vs `:Q`) affect the same field?\n",
    "- What happens when you use different mark types with the same encoding?\n",
    "- When would you choose horizontal vs. vertical bar charts?\n",
    "- How do you decide which encoding channel to use for a particular data field?\n",
    "\n",
    "**Next**: In-class lecture will build on these fundamentals with advanced multi-channel encoding, complex aggregations, interpretation skills, and hands-on practice with the assignment requirements!"
   ]
  },
  {
   "cell_type": "code",
   "execution_count": null,
   "id": "936ceba1",
   "metadata": {},
   "outputs": [],
   "source": []
  },
  {
   "cell_type": "code",
   "execution_count": null,
   "id": "ab3d3c7e",
   "metadata": {},
   "outputs": [],
   "source": []
  },
  {
   "cell_type": "code",
   "execution_count": null,
   "id": "d7bfe23f",
   "metadata": {},
   "outputs": [],
   "source": []
  },
  {
   "cell_type": "code",
   "execution_count": null,
   "id": "5c10df4d",
   "metadata": {},
   "outputs": [],
   "source": []
  }
 ],
 "metadata": {
  "jupytext": {
   "cell_metadata_filter": "-all",
   "notebook_metadata_filter": "-all",
   "text_representation": {
    "extension": ".md",
    "format_name": "markdown"
   }
  },
  "kernelspec": {
   "display_name": "Python 3 (ipykernel)",
   "language": "python",
   "name": "python3"
  }
 },
 "nbformat": 4,
 "nbformat_minor": 5
}
