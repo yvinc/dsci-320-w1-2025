{
 "cells": [
  {
   "cell_type": "markdown",
   "id": "0b81a547",
   "metadata": {},
   "source": [
    "# Tutorial 1: Pandas Fundamentals\n",
    "\n",
    "*Building Core Data Analysis Skills*\n",
    "\n",
    "**Estimated Time: 2-2.5 hours**\n",
    "\n",
    "## Learning Objectives\n",
    "By the end of this tutorial, you will be able to:\n",
    "- Load and explore datasets using pandas\n",
    "- Filter and manipulate data effectively\n",
    "- Create new columns and perform calculations\n",
    "- Sort and rank data\n",
    "- Work with missing values\n",
    "- Perform basic grouping and aggregation\n",
    "- Navigate pandas documentation to solve problems\n",
    "\n",
    "---\n",
    "\n",
    "## Getting Started: Understanding Pandas\n",
    "\n",
    "Pandas is built around two main data structures:\n",
    "- **Series**: A one-dimensional array with labels (like a column in a spreadsheet)\n",
    "- **DataFrame**: A two-dimensional table with rows and columns (like a spreadsheet)\n",
    "\n",
    "### Exercise 1: Your First DataFrame\n",
    "\n",
    "Let's start by creating a simple dataset about students:"
   ]
  },
  {
   "cell_type": "code",
   "execution_count": 106,
   "id": "a5115e2b",
   "metadata": {},
   "outputs": [
    {
     "name": "stdout",
     "output_type": "stream",
     "text": [
      "      name  age      major  gpa\n",
      "0    Alice   20    Biology  3.8\n",
      "1      Bob   22    Physics  3.2\n",
      "2  Charlie   19  Chemistry  3.9\n",
      "3    Diana   21    Biology  3.5\n",
      "4      Eve   23    Physics  3.7\n"
     ]
    }
   ],
   "source": [
    "import pandas as pd\n",
    "import numpy as np\n",
    "\n",
    "\n",
    "# Create a dictionary with student data\n",
    "student_data = {\n",
    "    'name': ['Alice', 'Bob', 'Charlie', 'Diana', 'Eve'],\n",
    "    'age': [20, 22, 19, 21, 23],\n",
    "    'major': ['Biology', 'Physics', 'Chemistry', 'Biology', 'Physics'],\n",
    "    'gpa': [3.8, 3.2, 3.9, 3.5, 3.7]\n",
    "}\n",
    "\n",
    "# Create a DataFrame from the dictionary\n",
    "students = pd.DataFrame(student_data)\n",
    "\n",
    "# Display the DataFrame\n",
    "print(students)"
   ]
  },
  {
   "cell_type": "markdown",
   "id": "e048882d",
   "metadata": {},
   "source": [
    "**Documentation Reference**: [pandas.DataFrame](https://pandas.pydata.org/docs/reference/api/pandas.DataFrame.html)\n",
    "\n",
    "**Question**: What do you notice about how pandas displays the data? What are the numbers on the left called?\n",
    "\n",
    "---\n",
    "\n",
    "## Section 1: Loading and Exploring Real Data\n",
    "\n",
    "### Exercise 2: Loading Data from a URL\n",
    "\n",
    "For practice, let's work with the Gapminder dataset:"
   ]
  },
  {
   "cell_type": "code",
   "execution_count": 107,
   "id": "a91973a2",
   "metadata": {},
   "outputs": [
    {
     "name": "stdout",
     "output_type": "stream",
     "text": [
      "       country       year  population region     sub_region income_group  \\\n",
      "0  Afghanistan 1800-01-01     3280000   Asia  Southern Asia          Low   \n",
      "1  Afghanistan 1801-01-01     3280000   Asia  Southern Asia          Low   \n",
      "2  Afghanistan 1802-01-01     3280000   Asia  Southern Asia          Low   \n",
      "3  Afghanistan 1803-01-01     3280000   Asia  Southern Asia          Low   \n",
      "4  Afghanistan 1804-01-01     3280000   Asia  Southern Asia          Low   \n",
      "\n",
      "   life_expectancy  income  children_per_woman  child_mortality  pop_density  \\\n",
      "0             28.2     603                 7.0            469.0          NaN   \n",
      "1             28.2     603                 7.0            469.0          NaN   \n",
      "2             28.2     603                 7.0            469.0          NaN   \n",
      "3             28.2     603                 7.0            469.0          NaN   \n",
      "4             28.2     603                 7.0            469.0          NaN   \n",
      "\n",
      "   co2_per_capita  years_in_school_men  years_in_school_women  \n",
      "0             NaN                  NaN                    NaN  \n",
      "1             NaN                  NaN                    NaN  \n",
      "2             NaN                  NaN                    NaN  \n",
      "3             NaN                  NaN                    NaN  \n",
      "4             NaN                  NaN                    NaN  \n"
     ]
    }
   ],
   "source": [
    "# The Gapminder dataset URL\n",
    "url = 'https://raw.githubusercontent.com/kemiolamudzengi/dsci-320-datasets/main/world-data-gapminder.csv'\n",
    "\n",
    "\n",
    "# Load the data using pd.read_csv()\n",
    "# parse_dates=['year'] tells pandas to convert the 'year' column to datetime format\n",
    "# This makes it easier to work with time-based data later\n",
    "gapminder = pd.read_csv(url, parse_dates=['year'])\n",
    "\n",
    "# Display the first few rows\n",
    "# .head() shows the first 5 rows by default - this gives us a quick peek at the data structure\n",
    "print(gapminder.head())"
   ]
  },
  {
   "cell_type": "markdown",
   "id": "5be56a64",
   "metadata": {},
   "source": [
    "**What's happening here:**\n",
    "- `pd.read_csv()` reads a CSV file from a URL and creates a DataFrame\n",
    "- `parse_dates=['year']` automatically converts the year column to a datetime data type\n",
    "- `gapminder.head()` shows us the first 5 rows so we can see what our data looks like\n",
    "\n",
    "**Documentation Reference**: [pandas.read_csv](https://pandas.pydata.org/docs/reference/api/pandas.read_csv.html)\n",
    "\n",
    "**Think About It**: Why might we want to parse the 'year' column as dates? What advantages does this give us?\n",
    "\n",
    "### Exercise 3: Getting to Know Your Data\n",
    "\n",
    "The `.info()` method is incredibly useful for understanding your dataset:"
   ]
  },
  {
   "cell_type": "code",
   "execution_count": 108,
   "id": "dcf7ff32",
   "metadata": {},
   "outputs": [
    {
     "name": "stdout",
     "output_type": "stream",
     "text": [
      "<class 'pandas.core.frame.DataFrame'>\n",
      "RangeIndex: 38982 entries, 0 to 38981\n",
      "Data columns (total 14 columns):\n",
      " #   Column                 Non-Null Count  Dtype         \n",
      "---  ------                 --------------  -----         \n",
      " 0   country                38982 non-null  object        \n",
      " 1   year                   38982 non-null  datetime64[ns]\n",
      " 2   population             38982 non-null  int64         \n",
      " 3   region                 38982 non-null  object        \n",
      " 4   sub_region             38982 non-null  object        \n",
      " 5   income_group           38982 non-null  object        \n",
      " 6   life_expectancy        38982 non-null  float64       \n",
      " 7   income                 38982 non-null  int64         \n",
      " 8   children_per_woman     38982 non-null  float64       \n",
      " 9   child_mortality        38980 non-null  float64       \n",
      " 10  pop_density            12282 non-null  float64       \n",
      " 11  co2_per_capita         16285 non-null  float64       \n",
      " 12  years_in_school_men    8188 non-null   float64       \n",
      " 13  years_in_school_women  8188 non-null   float64       \n",
      "dtypes: datetime64[ns](1), float64(7), int64(2), object(4)\n",
      "memory usage: 4.2+ MB\n"
     ]
    }
   ],
   "source": [
    "# Use .info() to get information about the gapminder dataset\n",
    "# This shows us: data types, non-null counts, memory usage\n",
    "gapminder.info()"
   ]
  },
  {
   "cell_type": "markdown",
   "id": "ee930fab",
   "metadata": {
    "lines_to_next_cell": 0
   },
   "source": [
    "**What `.info()` tells us:**\n",
    "- **Data types**: Whether columns are numbers, text, dates, etc.\n",
    "- **Non-null count**: How many values are NOT missing in each column\n",
    "- **Memory usage**: How much space the dataset takes up\n",
    "- **Index information**: The range of row numbers\n",
    "\n",
    "**Try These Too**:"
   ]
  },
  {
   "cell_type": "code",
   "execution_count": 109,
   "id": "d94c3d2a",
   "metadata": {},
   "outputs": [
    {
     "name": "stdout",
     "output_type": "stream",
     "text": [
      "Dataset shape: (38982, 14)\n",
      "Columns: ['country', 'year', 'population', 'region', 'sub_region', 'income_group', 'life_expectancy', 'income', 'children_per_woman', 'child_mortality', 'pop_density', 'co2_per_capita', 'years_in_school_men', 'years_in_school_women']\n",
      "                                year    population  life_expectancy  \\\n",
      "count                          38982  3.898200e+04     38982.000000   \n",
      "mean   1909-01-01 02:11:30.410958848  1.422075e+07        43.073468   \n",
      "min              1800-01-01 00:00:00  1.250000e+04         1.000000   \n",
      "25%              1854-01-01 00:00:00  5.060000e+05        31.200000   \n",
      "50%              1909-01-01 00:00:00  2.140000e+06        35.500000   \n",
      "75%              1964-01-01 00:00:00  6.870000e+06        55.600000   \n",
      "max              2018-01-01 00:00:00  1.420000e+09        84.200000   \n",
      "std                              NaN  6.722423e+07        16.219216   \n",
      "\n",
      "              income  children_per_woman  child_mortality   pop_density  \\\n",
      "count   38982.000000        38982.000000     38980.000000  12282.000000   \n",
      "mean     4527.128033            5.384391       292.050891    120.900572   \n",
      "min       247.000000            1.120000         1.950000      0.502000   \n",
      "25%       876.000000            4.550000       141.000000     14.800000   \n",
      "50%      1450.000000            5.910000       361.000000     46.000000   \n",
      "75%      3520.000000            6.630000       420.000000    110.000000   \n",
      "max    178000.000000            8.870000       756.000000   8270.000000   \n",
      "std      9753.116041            1.642597       161.562290    382.454242   \n",
      "\n",
      "       co2_per_capita  years_in_school_men  years_in_school_women  \n",
      "count    16285.000000          8188.000000            8188.000000  \n",
      "mean         3.236894             7.681019               6.948334  \n",
      "min          0.000000             0.900000               0.210000  \n",
      "25%          0.188000             5.160000               3.620000  \n",
      "50%          0.944000             7.650000               6.980000  \n",
      "75%          4.020000            10.100000               9.980000  \n",
      "max        101.000000            15.300000              15.700000  \n",
      "std          6.079257             3.185983               3.876399  \n"
     ]
    }
   ],
   "source": [
    "# Find the shape of the dataset (rows, columns)\n",
    "# .shape is a property (no parentheses) that returns a tuple: (rows, columns)\n",
    "print(\"Dataset shape:\", gapminder.shape)\n",
    "\n",
    "# Get the column names as a list\n",
    "# .columns gives us an Index object, .tolist() converts it to a regular Python list\n",
    "print(\"Columns:\", gapminder.columns.tolist())\n",
    "# print(\"Columns:\", gapminder.columns) \n",
    "\n",
    "# Get basic statistics for numerical columns\n",
    "# .describe() automatically calculates count, mean, std, min, quartiles, max\n",
    "print(gapminder.describe())"
   ]
  },
  {
   "cell_type": "markdown",
   "id": "68668fc6",
   "metadata": {},
   "source": [
    "**What each method shows:**\n",
    "- `.shape`: Gives us (number_of_rows, number_of_columns) as a tuple\n",
    "- `.columns.tolist()`: Shows all column names in a readable list format\n",
    "- `.describe()`: Provides statistical summary for numerical columns only\n",
    "\n",
    "**Documentation References**: \n",
    "- [DataFrame.info](https://pandas.pydata.org/docs/reference/api/pandas.DataFrame.info.html)\n",
    "- [DataFrame.describe](https://pandas.pydata.org/docs/reference/api/pandas.DataFrame.describe.html)\n",
    "\n",
    "**Reflection**: Look at the output of `.info()`. How many countries are in the dataset? Which columns have missing values?\n",
    "\n",
    "---\n",
    "\n",
    "## Section 2: Selecting and Filtering Data\n",
    "\n",
    "### Exercise 4: Selecting Columns"
   ]
  },
  {
   "cell_type": "code",
   "execution_count": 110,
   "id": "1c5f522b",
   "metadata": {},
   "outputs": [
    {
     "name": "stdout",
     "output_type": "stream",
     "text": [
      "<class 'pandas.core.series.Series'>\n",
      "<class 'pandas.core.frame.DataFrame'>\n",
      "       country       year  life_expectancy\n",
      "0  Afghanistan 1800-01-01             28.2\n",
      "1  Afghanistan 1801-01-01             28.2\n",
      "2  Afghanistan 1802-01-01             28.2\n",
      "3  Afghanistan 1803-01-01             28.2\n",
      "4  Afghanistan 1804-01-01             28.2\n"
     ]
    }
   ],
   "source": [
    "# Select just the 'country' column (returns a Series)\n",
    "countries = gapminder['country']\n",
    "print(type(countries))\n",
    "\n",
    "# Select multiple columns (returns a DataFrame)\n",
    "subset = gapminder[['country', 'year', 'life_expectancy']]\n",
    "print(type(subset))\n",
    "\n",
    "# Display the first 5 rows of your subset\n",
    "print(subset.head())"
   ]
  },
  {
   "cell_type": "markdown",
   "id": "b9ffb481",
   "metadata": {},
   "source": [
    "> **Key Insight**: Single brackets `[]` return a Series, double brackets `[[]]` return a DataFrame.\n",
    "\n",
    "### Exercise 5: Filtering Rows with Boolean Indexing\n",
    "\n",
    "Boolean indexing is one of pandas' most powerful features:"
   ]
  },
  {
   "cell_type": "code",
   "execution_count": 111,
   "id": "cf7b2714",
   "metadata": {},
   "outputs": [
    {
     "name": "stdout",
     "output_type": "stream",
     "text": [
      "Rows in 1982: 178\n",
      "Countries with high life expectancy: 1644\n",
      "High life expectancy countries in 1982: 10\n"
     ]
    }
   ],
   "source": [
    "# Filter for data from the year 1982\n",
    "# This creates a boolean mask: True for rows where year equals '1982', False otherwise\n",
    "# Then pandas returns only the True rows\n",
    "gm_1982 = gapminder[gapminder['year'] == '1982']\n",
    "print(\"Rows in 1982:\", len(gm_1982))\n",
    "\n",
    "# Filter for countries with life expectancy greater than 75\n",
    "# The > operator creates another boolean mask\n",
    "high_life_exp = gapminder[gapminder['life_expectancy'] > 75]\n",
    "print(\"Countries with high life expectancy:\", len(high_life_exp))\n",
    "\n",
    "# Combine conditions: Countries in 1982 with life expectancy > 75\n",
    "# & means \"and\" - both conditions must be True\n",
    "# IMPORTANT: Use parentheses around each condition when combining!\n",
    "combined_filter = gapminder[(gapminder['year'] == '1982') & (gapminder['life_expectancy'] > 75)]\n",
    "print(\"High life expectancy countries in 1982:\", len(combined_filter))"
   ]
  },
  {
   "cell_type": "markdown",
   "id": "aebc896d",
   "metadata": {},
   "source": [
    "**How boolean indexing works:**\n",
    "1. `gapminder['year'] == '1982'` creates a Series of True/False values\n",
    "2. `gapminder[boolean_series]` returns only rows where the boolean is True\n",
    "3. `&` combines conditions with \"and\" logic (both must be True)\n",
    "4. `|` combines conditions with \"or\" logic (either can be True)\n",
    "5. **Always use parentheses** when combining conditions!\n",
    "\n",
    "**Documentation Reference**: [Boolean indexing](https://pandas.pydata.org/docs/user_guide/indexing.html#boolean-indexing)\n",
    "\n",
    "**Practice Challenge**: Filter for countries that are either in Europe OR have a life expectancy greater than 80."
   ]
  },
  {
   "cell_type": "code",
   "execution_count": 112,
   "id": "d445b394",
   "metadata": {},
   "outputs": [
    {
     "name": "stdout",
     "output_type": "stream",
     "text": [
      "Countries that are either in Europe or have a life expectancy > 80: 8682\n"
     ]
    }
   ],
   "source": [
    "# Your solution here:\n",
    "europe_or_high_life = gapminder[(gapminder['region'] == 'Europe') | (gapminder['life_expectancy'] > 80)]\n",
    "print(\"Countries that are either in Europe or have a life expectancy > 80:\", len(europe_or_high_life))\n"
   ]
  },
  {
   "cell_type": "markdown",
   "id": "c294d483",
   "metadata": {},
   "source": [
    "### Exercise 6: Working with Missing Data"
   ]
  },
  {
   "cell_type": "code",
   "execution_count": 113,
   "id": "6f2b35bb",
   "metadata": {},
   "outputs": [
    {
     "name": "stdout",
     "output_type": "stream",
     "text": [
      "Missing values per column:\n",
      "country                      0\n",
      "year                         0\n",
      "population                   0\n",
      "region                       0\n",
      "sub_region                   0\n",
      "income_group                 0\n",
      "life_expectancy              0\n",
      "income                       0\n",
      "children_per_woman           0\n",
      "child_mortality              2\n",
      "pop_density              26700\n",
      "co2_per_capita           22697\n",
      "years_in_school_men      30794\n",
      "years_in_school_women    30794\n",
      "dtype: int64\n",
      "Original dataset: 38982 rows\n",
      "With CO2 data: 16285 rows\n",
      "Years with CO2 data: 215 years\n"
     ]
    }
   ],
   "source": [
    "# Check which columns have missing values and how many\n",
    "\n",
    "# .isnull() creates a DataFrame of True/False values (True = missing) ***\n",
    "# .sum() counts the True values (treating True as 1, False as 0)\n",
    "missing_data = gapminder.isnull().sum()\n",
    "print(\"Missing values per column:\")\n",
    "print(missing_data)\n",
    "\n",
    "# Filter the dataset to only include rows where 'co2_per_capita' is NOT null\n",
    "# .notna() is the opposite of .isnull() - it returns True for non-missing values\n",
    "co2_data = gapminder[gapminder['co2_per_capita'].notna()]\n",
    "print(f\"Original dataset: {len(gapminder)} rows\")\n",
    "print(f\"With CO2 data: {len(co2_data)} rows\")\n",
    "\n",
    "# What years have CO2 data available?\n",
    "# .unique() returns all distinct values in a column\n",
    "available_years = co2_data['year'].unique()\n",
    "print(f\"Years with CO2 data: {len(available_years)} years\")"
   ]
  },
  {
   "cell_type": "markdown",
   "id": "31a203d9",
   "metadata": {},
   "source": [
    "**Understanding missing data methods:**\n",
    "- `.isnull()`: Returns True where data is missing (NaN, None, etc.)\n",
    "- `.notna()` or `.notnull()`: Returns True where data exists\n",
    "- `.sum()` on boolean data: Counts True values (since True = 1 in math)\n",
    "- `.unique()`: Shows all distinct values, useful for checking data ranges\n",
    "\n",
    "---\n",
    "\n",
    "## Section 3: Data Manipulation and Transformation\n",
    "\n",
    "### Exercise 7: Creating New Columns"
   ]
  },
  {
   "cell_type": "code",
   "execution_count": 114,
   "id": "84053922",
   "metadata": {},
   "outputs": [
    {
     "name": "stdout",
     "output_type": "stream",
     "text": [
      "New column created:\n",
      "         country       year  population  co2_per_capita  total_co2\n",
      "149  Afghanistan 1949-01-01     7660000         0.00191    14630.6\n",
      "150  Afghanistan 1950-01-01     7750000         0.01090    84475.0\n",
      "151  Afghanistan 1951-01-01     7840000         0.01170    91728.0\n",
      "152  Afghanistan 1952-01-01     7930000         0.01150    91195.0\n",
      "153  Afghanistan 1953-01-01     8040000         0.01320   106128.0\n",
      "<class 'pandas.core.frame.DataFrame'>\n",
      "<class 'pandas.core.series.Series'>\n"
     ]
    }
   ],
   "source": [
    "# Create a new column 'total_co2' by multiplying population and co2_per_capita\n",
    "# First, create a copy to avoid the SettingWithCopyWarning\n",
    "co2_data = co2_data.copy()  # This creates an independent copy of the data\n",
    "# Now we can safely add new columns\n",
    "co2_data['total_co2'] = co2_data['population'] * co2_data['co2_per_capita']\n",
    "\n",
    "print(\"New column created:\")\n",
    "print(co2_data[['country', 'year', 'population', 'co2_per_capita', 'total_co2']].head())\n",
    "\n",
    "print(type(co2_data[['country']]))\n",
    "print(type(co2_data['country']))\n"
   ]
  },
  {
   "cell_type": "markdown",
   "id": "716e9650",
   "metadata": {},
   "source": [
    "**What's happening:**\n",
    "- `.copy()`: Creates an independent copy to avoid pandas warnings\n",
    "- `df['new_column'] = calculation`: Creates a new column using existing columns\n",
    "- Column operations are **vectorized**: the calculation applies to all rows at once\n",
    "\n",
    "### Exercise 8: Creating Categorical Columns"
   ]
  },
  {
   "cell_type": "code",
   "execution_count": 115,
   "id": "288828e7",
   "metadata": {},
   "outputs": [
    {
     "name": "stdout",
     "output_type": "stream",
     "text": [
      "Life expectancy categories:\n",
      "life_exp_category\n",
      "Low       9214\n",
      "Medium    5739\n",
      "High      1332\n",
      "Name: count, dtype: int64\n"
     ]
    }
   ],
   "source": [
    "# Create a categorical column 'life_exp_category' based on life expectancy\n",
    "# np.where() works like: np.where(condition, value_if_true, value_if_false)\n",
    "# We can nest multiple np.where() calls for multiple categories\n",
    "co2_data['life_exp_category'] = np.where(\n",
    "    co2_data['life_expectancy'] < 60, 'Low',           # If < 60, assign 'Low'\n",
    "    np.where(co2_data['life_expectancy'] <= 75, 'Medium', 'High')  # Else if <= 75, 'Medium', else 'High'\n",
    ")\n",
    "\n",
    "print(\"Life expectancy categories:\")\n",
    "print(co2_data['life_exp_category'].value_counts())\n",
    "\n",
    "# co2_data['life_exp_category'] = np.where(co2_data['life_expectancy'] < 60, 'Low',\n",
    "#                                         np.where(co2_data['life_expectancy'] <= 75, 'Medium', 'High'))"
   ]
  },
  {
   "cell_type": "markdown",
   "id": "121dc854",
   "metadata": {},
   "source": [
    "**How np.where() works:**\n",
    "- `np.where(condition, value_if_true, value_if_false)`: Basic syntax\n",
    "- You can nest multiple `np.where()` calls for multiple categories\n",
    "- The conditions are checked in order: first condition, then second, etc.\n",
    "- `.value_counts()`: Shows how many rows fall into each category\n",
    "\n",
    "**Documentation Reference**: [numpy.where](https://numpy.org/doc/stable/reference/generated/numpy.where.html)\n",
    "\n",
    "### Exercise 9: Sorting Data"
   ]
  },
  {
   "cell_type": "code",
   "execution_count": 116,
   "id": "fe5654d6",
   "metadata": {},
   "outputs": [
    {
     "name": "stdout",
     "output_type": "stream",
     "text": [
      "Country with highest life expectancy in 1982:\n",
      "      country  life_expectancy\n",
      "13541  Greece             77.3\n",
      "\n",
      "Top countries by region:\n",
      "       region     country  life_expectancy\n",
      "20111  Africa       Libya             72.0\n",
      "30185  Africa  Seychelles             70.5\n",
      "35660  Africa     Tunisia             67.7\n",
      "22520  Africa   Mauritius             67.0\n",
      "620    Africa     Algeria             64.4\n",
      "23615  Africa     Morocco             62.7\n",
      "4781   Africa    Botswana             62.5\n",
      "18140  Africa       Kenya             62.1\n",
      "38945  Africa    Zimbabwe             61.8\n",
      "9818   Africa    Djibouti             61.0\n"
     ]
    }
   ],
   "source": [
    "# Sort the 1982 data by life expectancy in descending order\n",
    "sorted_by_life_exp = gm_1982.sort_values('life_expectancy', ascending = False)\n",
    "print(\"Country with highest life expectancy in 1982:\")\n",
    "print(sorted_by_life_exp[['country', 'life_expectancy']].head(1))\n",
    "\n",
    "# Sort by multiple columns: first by region, then by life expectancy (descending)\n",
    "multi_sort = gm_1982.sort_values(['region', 'life_expectancy'], ascending = [True, False])\n",
    "print(\"\\nTop countries by region:\")\n",
    "print(multi_sort[['region', 'country', 'life_expectancy']].head(10))"
   ]
  },
  {
   "cell_type": "markdown",
   "id": "6d60b904",
   "metadata": {},
   "source": [
    "**Documentation Reference**: [DataFrame.sort_values](https://pandas.pydata.org/docs/reference/api/pandas.DataFrame.sort_values.html)\n",
    "\n",
    "---\n",
    "\n",
    "## Section 4: Advanced Data Operations\n",
    "\n",
    "### Exercise 10: Finding Top and Bottom Values"
   ]
  },
  {
   "cell_type": "code",
   "execution_count": 117,
   "id": "c35fc22f",
   "metadata": {},
   "outputs": [
    {
     "name": "stdout",
     "output_type": "stream",
     "text": [
      "Top 10 CO2 emitters per capita:\n",
      "                    country  co2_per_capita\n",
      "28465                 Qatar            45.4\n",
      "35473   Trinidad and Tobago            34.2\n",
      "18610                Kuwait            25.2\n",
      "2623                Bahrain            23.4\n",
      "36787  United Arab Emirates            23.3\n",
      "29560          Saudi Arabia            19.5\n",
      "20581            Luxembourg            17.4\n",
      "37225         United States            16.5\n",
      "1747              Australia            15.4\n",
      "26275                  Oman            15.4\n",
      "\n",
      "Countries with lowest life expectancy in 1982:\n",
      "           country  life_expectancy\n",
      "182    Afghanistan             43.8\n",
      "25367        Niger             44.2\n",
      "26681    Palestine             44.4\n",
      "11570     Ethiopia             45.0\n",
      "19454      Lebanon             45.9\n"
     ]
    }
   ],
   "source": [
    "# Find the top 10 countries with highest CO2 per capita in the most recent year\n",
    "recent_year = co2_data['year'].max()\n",
    "recent_co2 = co2_data[co2_data['year'] == recent_year]\n",
    "\n",
    "# Find the top 10 using nlargest()\n",
    "top_10_co2 = recent_co2.nlargest(10, 'co2_per_capita')\n",
    "print(\"Top 10 CO2 emitters per capita:\")\n",
    "print(top_10_co2[['country', 'co2_per_capita']])\n",
    "\n",
    "# Find the bottom 5 countries with lowest life expectancy in 1982\n",
    "bottom_5_life_exp = gm_1982.nsmallest(5, 'life_expectancy')\n",
    "print(\"\\nCountries with lowest life expectancy in 1982:\")\n",
    "print(bottom_5_life_exp[['country', 'life_expectancy']])"
   ]
  },
  {
   "cell_type": "markdown",
   "id": "c6cd75c0",
   "metadata": {},
   "source": [
    "**Documentation Reference**: [DataFrame.nlargest](https://pandas.pydata.org/docs/reference/api/pandas.DataFrame.nlargest.html)\n",
    "\n",
    "### Exercise 11: Basic Grouping and Aggregation"
   ]
  },
  {
   "cell_type": "code",
   "execution_count": 118,
   "id": "8fca51f5",
   "metadata": {},
   "outputs": [
    {
     "name": "stdout",
     "output_type": "stream",
     "text": [
      "Average life expectancy by region (1982):\n",
      "region\n",
      "Africa      55.3\n",
      "Americas    68.5\n",
      "Asia        62.9\n",
      "Europe      72.4\n",
      "Oceania     64.6\n",
      "Name: life_expectancy, dtype: float64\n",
      "\n",
      "Regional income statistics:\n",
      "          count     mean\n",
      "region                  \n",
      "Africa       52   4032.0\n",
      "Americas     31   9645.0\n",
      "Asia         47  14640.0\n",
      "Europe       39  18623.0\n",
      "Oceania       9   7378.0\n",
      "\n",
      "Income group analysis:\n",
      "              life_expectancy  population  country\n",
      "income_group                                      \n",
      "High                72.638462   951306600       52\n",
      "Low                 52.455882   285518000       34\n",
      "Lower middle        59.334884  1564926900       43\n",
      "Upper middle        66.332653  1784450800       49\n"
     ]
    }
   ],
   "source": [
    "# Calculate average life expectancy by region for 1982\n",
    "# .groupby('region') groups all rows by their region value\n",
    "# ['life_expectancy'] selects just that column from each group\n",
    "# .mean() calculates the average for each group\n",
    "regional_avg = gm_1982.groupby('region')['life_expectancy'].mean()\n",
    "print(\"Average life expectancy by region (1982):\")\n",
    "print(regional_avg.round(1))\n",
    "\n",
    "# For each region, find the count of countries and average income\n",
    "# .agg(['count', 'mean']) applies multiple functions to the grouped data ***\n",
    "regional_stats = gm_1982.groupby('region')['income'].agg(['count', 'mean'])\n",
    "print(\"\\nRegional income statistics:\")\n",
    "print(regional_stats.round(0))\n",
    "\n",
    "# Create a more complex aggregation\n",
    "# When you pass a dictionary to .agg(), you can apply different functions to different columns\n",
    "\n",
    "# if 'income_group' in gm_1982.columns:\n",
    "#     complex_agg = gm_1982.groupby('income_group').agg({\n",
    "#         'life_expectancy': 'mean',  # Average life expectancy for each income group\n",
    "#         'population': 'sum',        # Total population for each income group\n",
    "#         'country': 'count'          # Number of countries in each income group\n",
    "#     })\n",
    "#     print(\"\\nIncome group analysis:\")\n",
    "#     print(complex_agg)\n",
    "\n",
    "complex_agg = gm_1982.groupby('income_group').agg({\n",
    "        'life_expectancy': 'mean',  # Average life expectancy for each income group\n",
    "        'population': 'sum',        # Total population for each income group\n",
    "        'country': 'count'          # Number of countries in each income group\n",
    "    })\n",
    "print(\"\\nIncome group analysis:\")\n",
    "print(complex_agg)"
   ]
  },
  {
   "cell_type": "markdown",
   "id": "de764d71",
   "metadata": {},
   "source": [
    "**How groupby works:**\n",
    "1. **Split**: `.groupby('column')` divides data into groups based on unique values\n",
    "2. **Apply**: Functions like `.mean()`, `.sum()`, `.count()` are applied to each group\n",
    "3. **Combine**: Results are combined into a new DataFrame or Series\n",
    "4. **Multiple functions**: `.agg(['func1', 'func2'])` applies multiple functions\n",
    "5. **Different functions per column**: `.agg({'col1': 'mean', 'col2': 'sum'})` for flexibility\n",
    "\n",
    "**Documentation Reference**: [DataFrame.groupby](https://pandas.pydata.org/docs/reference/api/pandas.DataFrame.groupby.html)\n",
    "\n",
    "---\n",
    "\n",
    "## Section 5: Working with Time Series Data\n",
    "\n",
    "### Exercise 12: Date Operations and Filtering"
   ]
  },
  {
   "cell_type": "code",
   "execution_count": 119,
   "id": "52ee7863",
   "metadata": {},
   "outputs": [
    {
     "name": "stdout",
     "output_type": "stream",
     "text": [
      "Data from selected years: 534 rows\n",
      "Years included:\n",
      "year\n",
      "1952-01-01    178\n",
      "1977-01-01    178\n",
      "2002-01-01    178\n",
      "Name: count, dtype: int64\n"
     ]
    },
    {
     "name": "stderr",
     "output_type": "stream",
     "text": [
      "<positron-console-cell-119>:6: FutureWarning: The behavior of 'isin' with dtype=datetime64[ns] and castable values (e.g. strings) is deprecated. In a future version, these will not be considered matching by isin. Explicitly cast to the appropriate dtype before calling isin instead.\n"
     ]
    }
   ],
   "source": [
    "# Extract the year as a number from the datetime column\n",
    "gapminder['year_num'] = gapminder['year'].dt.year\n",
    "\n",
    "# Filter for data from specific years: 1952, 1977, 2002\n",
    "selected_years = ['1952', '1977', '2002']\n",
    "time_series_data = gapminder[gapminder['year'].isin(selected_years)] #***\n",
    "# time_series_data = gapminder[(gapminder['year'] == '1952') |\n",
    "#                              (gapminder['year'] == '1977') |\n",
    "#                              (gapminder['year'] == '2002') ]\n",
    "\n",
    "print(f\"Data from selected years: {len(time_series_data)} rows\")\n",
    "print(\"Years included:\")\n",
    "\n",
    "print(time_series_data['year'].value_counts().sort_index())"
   ]
  },
  {
   "cell_type": "markdown",
   "id": "ac402ddf",
   "metadata": {},
   "source": [
    "**Documentation Reference**: [pandas.DataFrame.isin](https://pandas.pydata.org/docs/reference/api/pandas.DataFrame.isin.html)\n",
    "\n",
    "---\n",
    "\n",
    "## Section 6: Using Pandas Documentation\n",
    "\n",
    "### Exercise 13: Documentation Navigation\n",
    "\n",
    "Learning to use the pandas documentation is crucial for solving new problems:"
   ]
  },
  {
   "cell_type": "code",
   "execution_count": 120,
   "id": "b1c9f1b8",
   "metadata": {},
   "outputs": [
    {
     "name": "stdout",
     "output_type": "stream",
     "text": [
      "Correlation between life expectancy and income:\n",
      "                 life_expectancy    income\n",
      "life_expectancy         1.000000  0.588609\n",
      "income                  0.588609  1.000000\n",
      "\n",
      "Countries per region:\n",
      "region\n",
      "Africa      11388\n",
      "Asia        10293\n",
      "Europe       8541\n",
      "Americas     6789\n",
      "Oceania      1971\n",
      "Name: count, dtype: int64\n"
     ]
    }
   ],
   "source": [
    "# Practice finding documentation for these methods:\n",
    "# 1. How to calculate correlation between two columns\n",
    "correlation_example = gapminder[['life_expectancy', 'income']].corr()\n",
    "print(\"Correlation between life expectancy and income:\")\n",
    "print(correlation_example)\n",
    "\n",
    "# 2. How to get unique values and their counts\n",
    "unique_regions = gapminder['region'].value_counts()\n",
    "print(\"\\nCountries per region:\")\n",
    "print(unique_regions)\n",
    "\n",
    "# 3. How to calculate rolling averages (you'll need to look this up!)\n",
    "# Hint: Look for \"rolling\" in the pandas documentation"
   ]
  },
  {
   "cell_type": "markdown",
   "id": "13eb35a0",
   "metadata": {},
   "source": [
    "**Key Documentation Resources:**\n",
    "1. **User Guide**: [pandas.pydata.org/docs/user_guide/](https://pandas.pydata.org/docs/user_guide/)\n",
    "2. **API Reference**: [pandas.pydata.org/docs/reference/](https://pandas.pydata.org/docs/reference/)\n",
    "3. **Search Strategy**: Use Ctrl+F to find specific method names\n",
    "\n",
    "---\n",
    "\n",
    "## Common Patterns and Best Practices\n",
    "\n",
    "### Pattern 1: Method Chaining\n",
    "Instead of creating many intermediate variables, you can chain operations:"
   ]
  },
  {
   "cell_type": "code",
   "execution_count": 121,
   "id": "2fc96702",
   "metadata": {},
   "outputs": [
    {
     "name": "stdout",
     "output_type": "stream",
     "text": [
      "Top 10 countries by life expectancy in 2000:\n",
      "           country    region  life_expectancy\n",
      "17501        Japan      Asia             81.0\n",
      "15530      Iceland    Europe             79.9\n",
      "33707  Switzerland    Europe             79.9\n",
      "33488       Sweden    Europe             79.7\n",
      "1733     Australia   Oceania             79.7\n",
      "17063        Italy    Europe             79.5\n",
      "30641    Singapore      Asia             79.4\n",
      "32393        Spain    Europe             79.4\n",
      "6332        Canada  Americas             79.2\n",
      "12245       France    Europe             79.1\n"
     ]
    },
    {
     "name": "stderr",
     "output_type": "stream",
     "text": [
      "<positron-console-cell-121>:3: FutureWarning: The behavior of 'isin' with dtype=datetime64[ns] and castable values (e.g. strings) is deprecated. In a future version, these will not be considered matching by isin. Explicitly cast to the appropriate dtype before calling isin instead.\n"
     ]
    }
   ],
   "source": [
    "# Chain operations together for cleaner code\n",
    "result = (gapminder\n",
    "          .query('year == \"2000\"')  # Filter condition\n",
    "          [['country', 'region', 'life_expectancy']]  # Select columns\n",
    "          .sort_values('life_expectancy', ascending=False)  # Sort\n",
    "          .head(10))  # Get top 10\n",
    "\n",
    "print(\"Top 10 countries by life expectancy in 2000:\")\n",
    "print(result)"
   ]
  },
  {
   "cell_type": "markdown",
   "id": "54edc51e",
   "metadata": {},
   "source": [
    "### Pattern 2: Handling the SettingWithCopyWarning"
   ]
  },
  {
   "cell_type": "code",
   "execution_count": 122,
   "id": "b964f98c",
   "metadata": {},
   "outputs": [],
   "source": [
    "# When you modify a subset of data, use .copy()\n",
    "subset = gapminder[gapminder['year'] == '2000'].copy()\n",
    "subset['new_column'] = subset['life_expectancy'] * 2"
   ]
  },
  {
   "cell_type": "markdown",
   "id": "6f3e2140",
   "metadata": {},
   "source": [
    "### Pattern 3: Safe Data Operations"
   ]
  },
  {
   "cell_type": "code",
   "execution_count": 123,
   "id": "179bb640",
   "metadata": {},
   "outputs": [
    {
     "name": "stdout",
     "output_type": "stream",
     "text": [
      "Before operation: (38982, 15)\n",
      "After filtering: (11672, 15)\n",
      "Percentage retained: 29.94202452413935 %\n"
     ]
    }
   ],
   "source": [
    "# Always check your data after operations\n",
    "print(\"Before operation:\", gapminder.shape)\n",
    "filtered_data = gapminder[gapminder['life_expectancy'] > 50]\n",
    "print(\"After filtering:\", filtered_data.shape)\n",
    "print(\"Percentage retained:\", len(filtered_data) / len(gapminder) * 100, \"%\")"
   ]
  },
  {
   "cell_type": "markdown",
   "id": "be7cc3c1",
   "metadata": {},
   "source": [
    "---\n",
    "\n",
    "## Practice Exercises\n",
    "\n",
    "### Exercise 14: Putting It All Together\n",
    "\n",
    "Use everything you've learned to answer these questions:"
   ]
  },
  {
   "cell_type": "code",
   "execution_count": 156,
   "id": "ac249990",
   "metadata": {},
   "outputs": [
    {
     "name": "stdout",
     "output_type": "stream",
     "text": [
      "Country with fastest life expectancy improvement:\n",
      "     country  life_exp_improvement\n",
      "98  Maldives                  47.3\n"
     ]
    }
   ],
   "source": [
    "# Question: Which country had the fastest improvement in life expectancy between 1952 and 2007?\n",
    "# Try doing this by yourself, using what you have learned so far. \n",
    "# The solution is at the bottom of the notebook.\n",
    "\n",
    "\n",
    "# Step 1: Get data for 1952 and 2007\n",
    "data_1952 = gapminder[gapminder['year'] == '1952'].copy()\n",
    "data_2007 = gapminder[gapminder['year'] == '2007'].copy()\n",
    "\n",
    "# Step 2: Merge the datasets to compare\n",
    "improvement_data = pd.merge(data_1952, data_2007, on = 'country', suffixes = ('_1952', '_2007'))\n",
    "# (improvement_data.head())\n",
    "# Step 3: Calculate improvement\n",
    "improvement_data['life_exp_improvement'] = improvement_data['life_expectancy_2007'] - improvement_data['life_expectancy_1952']\n",
    "improvement_data.head()\n",
    "\n",
    "# Step 4: Find the country with highest improvement\n",
    "best_improvement = improvement_data[improvement_data['life_exp_improvement'] == improvement_data['life_exp_improvement'].max()]\n",
    "best_improvement.head()\n",
    "print(\"Country with fastest life expectancy improvement:\")\n",
    "print(best_improvement[['country', 'life_exp_improvement']])"
   ]
  },
  {
   "cell_type": "markdown",
   "id": "d1345d58",
   "metadata": {},
   "source": [
    "---\n",
    "\n",
    "## Summary\n",
    "\n",
    "You've now learned the fundamental pandas skills for data analysis:\n",
    "\n",
    "### **Core Skills Mastered:**\n",
    "1. **Loading and inspecting** data with `read_csv()`, `info()`, `describe()`\n",
    "2. **Selecting and filtering** data with boolean indexing\n",
    "3. **Creating new columns** with calculations and transformations\n",
    "4. **Sorting and ranking** data for analysis\n",
    "5. **Handling missing values** with appropriate strategies\n",
    "6. **Basic grouping and aggregating** with `groupby()`\n",
    "7. **Working with dates** and time series data\n",
    "8. **Using pandas documentation** effectively\n",
    "\n",
    "### **Key Patterns to Remember:**\n",
    "- Use `.copy()` when modifying filtered data\n",
    "- Combine conditions with `&` (and) and `|` (or) in parentheses\n",
    "- Chain methods for cleaner, more readable code\n",
    "- Always validate your data after operations\n",
    "\n",
    "### **Next Steps:**\n",
    "- Practice these techniques on different datasets\n",
    "- Explore more advanced pandas functions\n",
    "- Learn data cleaning techniques for visualization\n",
    "- Apply these skills in your assignments!\n",
    "\n",
    "**Congratulations!** You now have a solid foundation in pandas for data analysis. These skills will serve you well throughout the course and in your future data science work.\n",
    "\n"
   ]
  },
  {
   "cell_type": "markdown",
   "id": "8a798903",
   "metadata": {},
   "source": [
    "---\n",
    "\n",
    "## Creating Your Pandas Cheat Sheet\n",
    "\n",
    "As you learn pandas, it's crucial to build your own reference guide. A personalized cheat sheet helps you remember syntax and builds confidence for quizzes and projects.\n",
    "\n",
    "### **Five-Step Process for Building Your Cheat Sheet**\n",
    "\n",
    "#### **Step 1: Create Your Outline (5 minutes)**\n",
    "Set up a document (Word, Google Doc, or notebook) with these sections:\n",
    "- **Data Loading & Exploration**\n",
    "- **Data Selection & Filtering** \n",
    "- **Data Manipulation**\n",
    "- **Grouping & Aggregation**\n",
    "- **Common Patterns**\n",
    "\n",
    "#### **Step 2: Extract Key Syntax (10 minutes)**\n",
    "Go through each section of this tutorial and write down the **essential syntax**:\n",
    "\n",
    "```\n",
    "DATA LOADING & EXPLORATION:\n",
    "• pd.read_csv(url, parse_dates=['col'])\n",
    "• df.info() - data types and missing values\n",
    "• df.describe() - statistical summary\n",
    "• df.shape - (rows, columns)\n",
    "• df.columns.tolist() - column names\n",
    "\n",
    "DATA SELECTION & FILTERING:\n",
    "• df['column'] - single column (Series)\n",
    "• df[['col1', 'col2']] - multiple columns (DataFrame) \n",
    "• df[df['col'] > value] - boolean filtering\n",
    "• df[(condition1) & (condition2)] - multiple conditions\n",
    "• df['col'].isnull() / .notna() - missing value checks\n",
    "```\n",
    "\n",
    "#### **Step 3: Add Your Own Examples (10 minutes)**\n",
    "For each syntax pattern, write a **concrete example** from your own practice:\n",
    "\n",
    "```\n",
    "EXAMPLE: Filter high life expectancy countries in 2000\n",
    "high_life_2000 = gapminder[\n",
    "    (gapminder['year'] == '2000') & \n",
    "    (gapminder['life_expectancy'] > 75)\n",
    "]\n",
    "```\n",
    "\n",
    "#### **Step 4: Note Common Gotchas (5 minutes)**\n",
    "Record the mistakes you made or almost made:\n",
    "\n",
    "```\n",
    "REMEMBER:\n",
    "• Use .copy() when modifying filtered data\n",
    "• Always use parentheses with & and | operators\n",
    "• .shape is a property (no parentheses)\n",
    "• Use .tolist() to convert columns to readable list\n",
    "```\n",
    "\n",
    "#### **Step 5: Test Your Cheat Sheet (5 minutes)**\n",
    "Pick 2-3 random operations from your cheat sheet and try them on a dataset. If you can't remember how to use them, add more detail to your notes.\n",
    "\n",
    "### **Pro Tips for Effective Cheat Sheets:**\n",
    "\n",
    "1. **Keep it concise**: One page per tutorial maximum\n",
    "2. **Use your own words**: Don't just copy-paste from tutorials\n",
    "3. **Include error solutions**: Note how you fixed common mistakes\n",
    "4. **Update regularly**: Add new patterns as you encounter them\n",
    "5. **Practice from it**: Use your cheat sheet to solve new problems\n",
    "\n",
    "### **Before Your Next Tutorial:**\n",
    "Spend 35 minutes total creating your Tutorial 1A cheat sheet. \n",
    "This investment will pay off during future assignments when you need to recall syntax quickly.\n",
    "\n",
    "**Your cheat sheet is your personal pandas survival guide - make it work for you!**\n",
    "\n",
    "---\n"
   ]
  },
  {
   "cell_type": "markdown",
   "id": "9e51d6f2",
   "metadata": {},
   "source": [
    "## Self-Check Questions\n",
    "\n",
    "Before moving on, make sure you can answer these questions. **Practice coding the answers** to prepare for your quiz:\n",
    "\n",
    "### **Basic Concepts (Practice these first)**\n",
    "\n",
    "1. **What's the difference between selecting columns with `df['col']` vs `df[['col']]`?**\n",
    "   - Try both on a sample dataset and observe the output types\n",
    "\n",
    "2. **How do you combine multiple conditions in boolean indexing?**\n",
    "   - Practice creating filters with both `&` (and) and `|` (or)\n",
    "   - Remember: always use parentheses around each condition!\n",
    "\n",
    "3. **What's the purpose of using `.copy()` when creating filtered datasets?**\n",
    "   - When do you need it and why does pandas give warnings without it?\n",
    "   \n",
    "4. **How do you find the top N values in a column?**\n",
    "   - Pick an attribute from the dataset and make sure you can filter to only keep N values?\n",
    "\n",
    "5. **What's the basic pattern for groupby operations?**\n",
    "   \n",
    "\n",
    "### **Applied Skills (Quiz-level questions)**\n",
    "\n",
    "4. **Complex Filtering Challenge:**\n",
    "   Write code to find countries that meet ALL these conditions:\n",
    "   - Life expectancy greater than 70\n",
    "   - Population greater than 5 million\n",
    "   - From either Europe OR North America\n",
    "   \n",
    "\n",
    "5. **Groupby Analysis Challenge:**\n",
    "   For each region, calculate:\n",
    "   - The count of countries\n",
    "   - The average life expectancy\n",
    "   - The country with the highest income (hint: use `.idxmax()`)\n",
    "   \n",
    "\n",
    "6. **Missing Data Strategy Challenge:**\n",
    "   You have a dataset where:\n",
    "   - 'essential_column' has 5% missing values\n",
    "   - 'optional_column' has 40% missing values\n",
    "   - 'analysis_column' has 15% missing values\n",
    "   \n",
    "   What strategy would you use for each column and why? Practice implementing your strategy in code.\n",
    "\n",
    "**If you can confidently answer and code solutions for questions 4-7, you're well-prepared for the quiz!**"
   ]
  },
  {
   "cell_type": "code",
   "execution_count": 51,
   "id": "cfefda66",
   "metadata": {},
   "outputs": [
    {
     "name": "stdout",
     "output_type": "stream",
     "text": [
      "Country with fastest life expectancy improvement:\n",
      "     country  life_exp_improvement\n",
      "98  Maldives                  47.3\n"
     ]
    }
   ],
   "source": [
    "# Solution for Exercise 14\n",
    "\n",
    "# Step 1: Get data for 1952 and 2007\n",
    "data_1952 = gapminder[gapminder['year'] == '1952']\n",
    "data_2007 = gapminder[gapminder['year'] == '2007']\n",
    "\n",
    "# Step 2: Merge the datasets to compare\n",
    "improvement_data = data_1952.merge(\n",
    "    data_2007, \n",
    "    on='country', \n",
    "    suffixes=('_1952', '_2007')\n",
    ")\n",
    "\n",
    "# Step 3: Calculate improvement\n",
    "improvement_data['life_exp_improvement'] = (\n",
    "    improvement_data['life_expectancy_2007'] - \n",
    "    improvement_data['life_expectancy_1952']\n",
    ")\n",
    "\n",
    "# Step 4: Find the country with highest improvement\n",
    "best_improvement = improvement_data.nlargest(1, 'life_exp_improvement')\n",
    "print(\"Country with fastest life expectancy improvement:\")\n",
    "print(best_improvement[['country', 'life_exp_improvement']])"
   ]
  }
 ],
 "metadata": {
  "jupytext": {
   "cell_metadata_filter": "-all",
   "notebook_metadata_filter": "-all"
  },
  "kernelspec": {
   "display_name": "Python 3 (ipykernel)",
   "language": "python",
   "name": "python3"
  },
  "language_info": {
   "name": "python"
  }
 },
 "nbformat": 4,
 "nbformat_minor": 5
}
